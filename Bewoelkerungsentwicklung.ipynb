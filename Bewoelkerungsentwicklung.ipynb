{
 "cells": [
  {
   "cell_type": "markdown",
   "source": [],
   "metadata": {
    "collapsed": false
   }
  },
  {
   "cell_type": "code",
   "execution_count": 1,
   "metadata": {},
   "outputs": [],
   "source": [
    "import pandas as pd\n",
    "import os\n",
    "# import numpy as np"
   ]
  },
  {
   "cell_type": "code",
   "execution_count": 2,
   "metadata": {},
   "outputs": [],
   "source": [
    "os.chdir('Population data')"
   ]
  },
  {
   "cell_type": "code",
   "execution_count": 3,
   "metadata": {},
   "outputs": [],
   "source": [
    "pop = pd.read_excel('31121977_Auszug_GV.xlsx', sheet_name = 'Gemeindedaten')"
   ]
  },
  {
   "cell_type": "code",
   "execution_count": 4,
   "outputs": [],
   "source": [
    "os.chdir(\"..\")"
   ],
   "metadata": {
    "collapsed": false
   }
  },
  {
   "cell_type": "code",
   "execution_count": 5,
   "outputs": [],
   "source": [
    "pop = pop.drop(pop.columns[[0,1,2,3,4,6,8,9,10]], axis = 1)\n",
    "pop = pop.rename(columns = {'Unnamed: 5' : 'ort', 'Unnamed: 7': 'pop'})\n",
    "pop = pop.dropna()"
   ],
   "metadata": {
    "collapsed": false
   }
  },
  {
   "cell_type": "code",
   "execution_count": 6,
   "outputs": [
    {
     "data": {
      "text/plain": "                            ort      pop\n7              Flensburg, Stadt    90036\n9                   Kiel, Stadt   256512\n11           Lübeck, Hansestadt   227184\n13            Neumünster, Stadt    82823\n15                   Albersdorf     3436\n...                         ...      ...\n10853                Nonnweiler     8407\n10854                  Oberthal     6493\n10855  Sankt Wendel, Kreisstadt    27235\n10856                    Tholey    12138\n10859      Berlin (West), Stadt  1926826\n\n[10391 rows x 2 columns]",
      "text/html": "<div>\n<style scoped>\n    .dataframe tbody tr th:only-of-type {\n        vertical-align: middle;\n    }\n\n    .dataframe tbody tr th {\n        vertical-align: top;\n    }\n\n    .dataframe thead th {\n        text-align: right;\n    }\n</style>\n<table border=\"1\" class=\"dataframe\">\n  <thead>\n    <tr style=\"text-align: right;\">\n      <th></th>\n      <th>ort</th>\n      <th>pop</th>\n    </tr>\n  </thead>\n  <tbody>\n    <tr>\n      <th>7</th>\n      <td>Flensburg, Stadt</td>\n      <td>90036</td>\n    </tr>\n    <tr>\n      <th>9</th>\n      <td>Kiel, Stadt</td>\n      <td>256512</td>\n    </tr>\n    <tr>\n      <th>11</th>\n      <td>Lübeck, Hansestadt</td>\n      <td>227184</td>\n    </tr>\n    <tr>\n      <th>13</th>\n      <td>Neumünster, Stadt</td>\n      <td>82823</td>\n    </tr>\n    <tr>\n      <th>15</th>\n      <td>Albersdorf</td>\n      <td>3436</td>\n    </tr>\n    <tr>\n      <th>...</th>\n      <td>...</td>\n      <td>...</td>\n    </tr>\n    <tr>\n      <th>10853</th>\n      <td>Nonnweiler</td>\n      <td>8407</td>\n    </tr>\n    <tr>\n      <th>10854</th>\n      <td>Oberthal</td>\n      <td>6493</td>\n    </tr>\n    <tr>\n      <th>10855</th>\n      <td>Sankt Wendel, Kreisstadt</td>\n      <td>27235</td>\n    </tr>\n    <tr>\n      <th>10856</th>\n      <td>Tholey</td>\n      <td>12138</td>\n    </tr>\n    <tr>\n      <th>10859</th>\n      <td>Berlin (West), Stadt</td>\n      <td>1926826</td>\n    </tr>\n  </tbody>\n</table>\n<p>10391 rows × 2 columns</p>\n</div>"
     },
     "execution_count": 6,
     "metadata": {},
     "output_type": "execute_result"
    }
   ],
   "source": [
    "pop = pop.drop(index = 1)\n",
    "pop"
   ],
   "metadata": {
    "collapsed": false
   }
  },
  {
   "cell_type": "code",
   "execution_count": 7,
   "outputs": [],
   "source": [
    "pop['pop'] = pop['pop'].astype('uint32')\n",
    "pop['ort'] = pop['ort'].astype('string')"
   ],
   "metadata": {
    "collapsed": false
   }
  },
  {
   "cell_type": "code",
   "execution_count": 8,
   "outputs": [
    {
     "name": "stdout",
     "output_type": "stream",
     "text": [
      "<class 'pandas.core.frame.DataFrame'>\n",
      "Int64Index: 10391 entries, 7 to 10859\n",
      "Data columns (total 2 columns):\n",
      " #   Column  Non-Null Count  Dtype \n",
      "---  ------  --------------  ----- \n",
      " 0   ort     10391 non-null  string\n",
      " 1   pop     10391 non-null  uint32\n",
      "dtypes: string(1), uint32(1)\n",
      "memory usage: 202.9 KB\n"
     ]
    }
   ],
   "source": [
    "pop.info()"
   ],
   "metadata": {
    "collapsed": false
   }
  },
  {
   "cell_type": "code",
   "execution_count": 9,
   "outputs": [],
   "source": [
    "plz = pd.read_excel('plz_pop.xlsx')"
   ],
   "metadata": {
    "collapsed": false
   }
  },
  {
   "cell_type": "code",
   "execution_count": 10,
   "outputs": [],
   "source": [
    "plz = plz.drop(\n",
    "    ['qkm',\n",
    "    'lat',\n",
    "    'lon'],\n",
    "    axis = 1,\n",
    ")"
   ],
   "metadata": {
    "collapsed": false
   }
  },
  {
   "cell_type": "code",
   "execution_count": 11,
   "outputs": [],
   "source": [
    "plz['plz'] = plz['plz'].astype('uint32')\n",
    "plz['note'] = plz['note'].astype('string')\n",
    "plz['einwohner'] = plz['einwohner'].astype('uint64')"
   ],
   "metadata": {
    "collapsed": false
   }
  },
  {
   "cell_type": "code",
   "execution_count": 12,
   "outputs": [
    {
     "name": "stdout",
     "output_type": "stream",
     "text": [
      "<class 'pandas.core.frame.DataFrame'>\n",
      "RangeIndex: 8170 entries, 0 to 8169\n",
      "Data columns (total 3 columns):\n",
      " #   Column     Non-Null Count  Dtype \n",
      "---  ------     --------------  ----- \n",
      " 0   plz        8170 non-null   uint32\n",
      " 1   note       8170 non-null   string\n",
      " 2   einwohner  8170 non-null   uint64\n",
      "dtypes: string(1), uint32(1), uint64(1)\n",
      "memory usage: 159.7 KB\n"
     ]
    }
   ],
   "source": [
    "plz.info()"
   ],
   "metadata": {
    "collapsed": false
   }
  },
  {
   "cell_type": "code",
   "execution_count": 13,
   "outputs": [],
   "source": [
    "plz['note'] = plz['note'].apply(lambda x: \"\".join(x.split()[1:]))"
   ],
   "metadata": {
    "collapsed": false
   }
  },
  {
   "cell_type": "code",
   "execution_count": 14,
   "outputs": [],
   "source": [
    "df = plz.groupby(by = ['note']).sum()"
   ],
   "metadata": {
    "collapsed": false
   }
  },
  {
   "cell_type": "code",
   "execution_count": 15,
   "outputs": [
    {
     "data": {
      "text/plain": "plz          6085416\neinwohner    1348403\nName: München, dtype: uint64"
     },
     "execution_count": 15,
     "metadata": {},
     "output_type": "execute_result"
    }
   ],
   "source": [
    "df.loc['München']"
   ],
   "metadata": {
    "collapsed": false
   }
  },
  {
   "cell_type": "code",
   "execution_count": 16,
   "outputs": [
    {
     "ename": "UndefinedVariableError",
     "evalue": "name 'ortMünchen' is not defined",
     "output_type": "error",
     "traceback": [
      "\u001B[1;31m---------------------------------------------------------------------------\u001B[0m",
      "\u001B[1;31mKeyError\u001B[0m                                  Traceback (most recent call last)",
      "File \u001B[1;32m~\\anaconda3\\envs\\personal\\lib\\site-packages\\pandas\\core\\computation\\scope.py:197\u001B[0m, in \u001B[0;36mScope.resolve\u001B[1;34m(self, key, is_local)\u001B[0m\n\u001B[0;32m    196\u001B[0m \u001B[38;5;28;01mif\u001B[39;00m \u001B[38;5;28mself\u001B[39m\u001B[38;5;241m.\u001B[39mhas_resolvers:\n\u001B[1;32m--> 197\u001B[0m     \u001B[38;5;28;01mreturn\u001B[39;00m \u001B[38;5;28;43mself\u001B[39;49m\u001B[38;5;241;43m.\u001B[39;49m\u001B[43mresolvers\u001B[49m\u001B[43m[\u001B[49m\u001B[43mkey\u001B[49m\u001B[43m]\u001B[49m\n\u001B[0;32m    199\u001B[0m \u001B[38;5;66;03m# if we're here that means that we have no locals and we also have\u001B[39;00m\n\u001B[0;32m    200\u001B[0m \u001B[38;5;66;03m# no resolvers\u001B[39;00m\n",
      "File \u001B[1;32m~\\anaconda3\\envs\\personal\\lib\\collections\\__init__.py:986\u001B[0m, in \u001B[0;36mChainMap.__getitem__\u001B[1;34m(self, key)\u001B[0m\n\u001B[0;32m    985\u001B[0m         \u001B[38;5;28;01mpass\u001B[39;00m\n\u001B[1;32m--> 986\u001B[0m \u001B[38;5;28;01mreturn\u001B[39;00m \u001B[38;5;28;43mself\u001B[39;49m\u001B[38;5;241;43m.\u001B[39;49m\u001B[38;5;21;43m__missing__\u001B[39;49m\u001B[43m(\u001B[49m\u001B[43mkey\u001B[49m\u001B[43m)\u001B[49m\n",
      "File \u001B[1;32m~\\anaconda3\\envs\\personal\\lib\\collections\\__init__.py:978\u001B[0m, in \u001B[0;36mChainMap.__missing__\u001B[1;34m(self, key)\u001B[0m\n\u001B[0;32m    977\u001B[0m \u001B[38;5;28;01mdef\u001B[39;00m \u001B[38;5;21m__missing__\u001B[39m(\u001B[38;5;28mself\u001B[39m, key):\n\u001B[1;32m--> 978\u001B[0m     \u001B[38;5;28;01mraise\u001B[39;00m \u001B[38;5;167;01mKeyError\u001B[39;00m(key)\n",
      "\u001B[1;31mKeyError\u001B[0m: 'ortMünchen'",
      "\nDuring handling of the above exception, another exception occurred:\n",
      "\u001B[1;31mKeyError\u001B[0m                                  Traceback (most recent call last)",
      "File \u001B[1;32m~\\anaconda3\\envs\\personal\\lib\\site-packages\\pandas\\core\\computation\\scope.py:208\u001B[0m, in \u001B[0;36mScope.resolve\u001B[1;34m(self, key, is_local)\u001B[0m\n\u001B[0;32m    204\u001B[0m \u001B[38;5;28;01mtry\u001B[39;00m:\n\u001B[0;32m    205\u001B[0m     \u001B[38;5;66;03m# last ditch effort we look in temporaries\u001B[39;00m\n\u001B[0;32m    206\u001B[0m     \u001B[38;5;66;03m# these are created when parsing indexing expressions\u001B[39;00m\n\u001B[0;32m    207\u001B[0m     \u001B[38;5;66;03m# e.g., df[df > 0]\u001B[39;00m\n\u001B[1;32m--> 208\u001B[0m     \u001B[38;5;28;01mreturn\u001B[39;00m \u001B[38;5;28;43mself\u001B[39;49m\u001B[38;5;241;43m.\u001B[39;49m\u001B[43mtemps\u001B[49m\u001B[43m[\u001B[49m\u001B[43mkey\u001B[49m\u001B[43m]\u001B[49m\n\u001B[0;32m    209\u001B[0m \u001B[38;5;28;01mexcept\u001B[39;00m \u001B[38;5;167;01mKeyError\u001B[39;00m \u001B[38;5;28;01mas\u001B[39;00m err:\n\u001B[0;32m    210\u001B[0m     \u001B[38;5;66;03m# runtime import because ops imports from scope\u001B[39;00m\n",
      "\u001B[1;31mKeyError\u001B[0m: 'ortMünchen'",
      "\nThe above exception was the direct cause of the following exception:\n",
      "\u001B[1;31mUndefinedVariableError\u001B[0m                    Traceback (most recent call last)",
      "Input \u001B[1;32mIn [16]\u001B[0m, in \u001B[0;36m<cell line: 1>\u001B[1;34m()\u001B[0m\n\u001B[1;32m----> 1\u001B[0m \u001B[43mpop\u001B[49m\u001B[38;5;241;43m.\u001B[39;49m\u001B[43mquery\u001B[49m\u001B[43m(\u001B[49m\u001B[38;5;124;43m'\u001B[39;49m\u001B[38;5;124;43mort\u001B[39;49m\u001B[38;5;124;43m'\u001B[39;49m\u001B[43m \u001B[49m\u001B[38;5;124;43m'\u001B[39;49m\u001B[38;5;124;43mMünchen,  Stadt\u001B[39;49m\u001B[38;5;124;43m'\u001B[39;49m\u001B[43m)\u001B[49m\n",
      "File \u001B[1;32m~\\anaconda3\\envs\\personal\\lib\\site-packages\\pandas\\core\\frame.py:4111\u001B[0m, in \u001B[0;36mDataFrame.query\u001B[1;34m(self, expr, inplace, **kwargs)\u001B[0m\n\u001B[0;32m   4109\u001B[0m kwargs[\u001B[38;5;124m\"\u001B[39m\u001B[38;5;124mlevel\u001B[39m\u001B[38;5;124m\"\u001B[39m] \u001B[38;5;241m=\u001B[39m kwargs\u001B[38;5;241m.\u001B[39mpop(\u001B[38;5;124m\"\u001B[39m\u001B[38;5;124mlevel\u001B[39m\u001B[38;5;124m\"\u001B[39m, \u001B[38;5;241m0\u001B[39m) \u001B[38;5;241m+\u001B[39m \u001B[38;5;241m1\u001B[39m\n\u001B[0;32m   4110\u001B[0m kwargs[\u001B[38;5;124m\"\u001B[39m\u001B[38;5;124mtarget\u001B[39m\u001B[38;5;124m\"\u001B[39m] \u001B[38;5;241m=\u001B[39m \u001B[38;5;28;01mNone\u001B[39;00m\n\u001B[1;32m-> 4111\u001B[0m res \u001B[38;5;241m=\u001B[39m \u001B[38;5;28mself\u001B[39m\u001B[38;5;241m.\u001B[39meval(expr, \u001B[38;5;241m*\u001B[39m\u001B[38;5;241m*\u001B[39mkwargs)\n\u001B[0;32m   4113\u001B[0m \u001B[38;5;28;01mtry\u001B[39;00m:\n\u001B[0;32m   4114\u001B[0m     result \u001B[38;5;241m=\u001B[39m \u001B[38;5;28mself\u001B[39m\u001B[38;5;241m.\u001B[39mloc[res]\n",
      "File \u001B[1;32m~\\anaconda3\\envs\\personal\\lib\\site-packages\\pandas\\core\\frame.py:4240\u001B[0m, in \u001B[0;36mDataFrame.eval\u001B[1;34m(self, expr, inplace, **kwargs)\u001B[0m\n\u001B[0;32m   4237\u001B[0m     kwargs[\u001B[38;5;124m\"\u001B[39m\u001B[38;5;124mtarget\u001B[39m\u001B[38;5;124m\"\u001B[39m] \u001B[38;5;241m=\u001B[39m \u001B[38;5;28mself\u001B[39m\n\u001B[0;32m   4238\u001B[0m kwargs[\u001B[38;5;124m\"\u001B[39m\u001B[38;5;124mresolvers\u001B[39m\u001B[38;5;124m\"\u001B[39m] \u001B[38;5;241m=\u001B[39m \u001B[38;5;28mtuple\u001B[39m(kwargs\u001B[38;5;241m.\u001B[39mget(\u001B[38;5;124m\"\u001B[39m\u001B[38;5;124mresolvers\u001B[39m\u001B[38;5;124m\"\u001B[39m, ())) \u001B[38;5;241m+\u001B[39m resolvers\n\u001B[1;32m-> 4240\u001B[0m \u001B[38;5;28;01mreturn\u001B[39;00m _eval(expr, inplace\u001B[38;5;241m=\u001B[39minplace, \u001B[38;5;241m*\u001B[39m\u001B[38;5;241m*\u001B[39mkwargs)\n",
      "File \u001B[1;32m~\\anaconda3\\envs\\personal\\lib\\site-packages\\pandas\\core\\computation\\eval.py:351\u001B[0m, in \u001B[0;36meval\u001B[1;34m(expr, parser, engine, truediv, local_dict, global_dict, resolvers, level, target, inplace)\u001B[0m\n\u001B[0;32m    342\u001B[0m \u001B[38;5;66;03m# get our (possibly passed-in) scope\u001B[39;00m\n\u001B[0;32m    343\u001B[0m env \u001B[38;5;241m=\u001B[39m ensure_scope(\n\u001B[0;32m    344\u001B[0m     level \u001B[38;5;241m+\u001B[39m \u001B[38;5;241m1\u001B[39m,\n\u001B[0;32m    345\u001B[0m     global_dict\u001B[38;5;241m=\u001B[39mglobal_dict,\n\u001B[1;32m   (...)\u001B[0m\n\u001B[0;32m    348\u001B[0m     target\u001B[38;5;241m=\u001B[39mtarget,\n\u001B[0;32m    349\u001B[0m )\n\u001B[1;32m--> 351\u001B[0m parsed_expr \u001B[38;5;241m=\u001B[39m \u001B[43mExpr\u001B[49m\u001B[43m(\u001B[49m\u001B[43mexpr\u001B[49m\u001B[43m,\u001B[49m\u001B[43m \u001B[49m\u001B[43mengine\u001B[49m\u001B[38;5;241;43m=\u001B[39;49m\u001B[43mengine\u001B[49m\u001B[43m,\u001B[49m\u001B[43m \u001B[49m\u001B[43mparser\u001B[49m\u001B[38;5;241;43m=\u001B[39;49m\u001B[43mparser\u001B[49m\u001B[43m,\u001B[49m\u001B[43m \u001B[49m\u001B[43menv\u001B[49m\u001B[38;5;241;43m=\u001B[39;49m\u001B[43menv\u001B[49m\u001B[43m)\u001B[49m\n\u001B[0;32m    353\u001B[0m \u001B[38;5;66;03m# construct the engine and evaluate the parsed expression\u001B[39;00m\n\u001B[0;32m    354\u001B[0m eng \u001B[38;5;241m=\u001B[39m ENGINES[engine]\n",
      "File \u001B[1;32m~\\anaconda3\\envs\\personal\\lib\\site-packages\\pandas\\core\\computation\\expr.py:811\u001B[0m, in \u001B[0;36mExpr.__init__\u001B[1;34m(self, expr, engine, parser, env, level)\u001B[0m\n\u001B[0;32m    809\u001B[0m \u001B[38;5;28mself\u001B[39m\u001B[38;5;241m.\u001B[39mparser \u001B[38;5;241m=\u001B[39m parser\n\u001B[0;32m    810\u001B[0m \u001B[38;5;28mself\u001B[39m\u001B[38;5;241m.\u001B[39m_visitor \u001B[38;5;241m=\u001B[39m PARSERS[parser](\u001B[38;5;28mself\u001B[39m\u001B[38;5;241m.\u001B[39menv, \u001B[38;5;28mself\u001B[39m\u001B[38;5;241m.\u001B[39mengine, \u001B[38;5;28mself\u001B[39m\u001B[38;5;241m.\u001B[39mparser)\n\u001B[1;32m--> 811\u001B[0m \u001B[38;5;28mself\u001B[39m\u001B[38;5;241m.\u001B[39mterms \u001B[38;5;241m=\u001B[39m \u001B[38;5;28;43mself\u001B[39;49m\u001B[38;5;241;43m.\u001B[39;49m\u001B[43mparse\u001B[49m\u001B[43m(\u001B[49m\u001B[43m)\u001B[49m\n",
      "File \u001B[1;32m~\\anaconda3\\envs\\personal\\lib\\site-packages\\pandas\\core\\computation\\expr.py:830\u001B[0m, in \u001B[0;36mExpr.parse\u001B[1;34m(self)\u001B[0m\n\u001B[0;32m    826\u001B[0m \u001B[38;5;28;01mdef\u001B[39;00m \u001B[38;5;21mparse\u001B[39m(\u001B[38;5;28mself\u001B[39m):\n\u001B[0;32m    827\u001B[0m     \u001B[38;5;124;03m\"\"\"\u001B[39;00m\n\u001B[0;32m    828\u001B[0m \u001B[38;5;124;03m    Parse an expression.\u001B[39;00m\n\u001B[0;32m    829\u001B[0m \u001B[38;5;124;03m    \"\"\"\u001B[39;00m\n\u001B[1;32m--> 830\u001B[0m     \u001B[38;5;28;01mreturn\u001B[39;00m \u001B[38;5;28;43mself\u001B[39;49m\u001B[38;5;241;43m.\u001B[39;49m\u001B[43m_visitor\u001B[49m\u001B[38;5;241;43m.\u001B[39;49m\u001B[43mvisit\u001B[49m\u001B[43m(\u001B[49m\u001B[38;5;28;43mself\u001B[39;49m\u001B[38;5;241;43m.\u001B[39;49m\u001B[43mexpr\u001B[49m\u001B[43m)\u001B[49m\n",
      "File \u001B[1;32m~\\anaconda3\\envs\\personal\\lib\\site-packages\\pandas\\core\\computation\\expr.py:415\u001B[0m, in \u001B[0;36mBaseExprVisitor.visit\u001B[1;34m(self, node, **kwargs)\u001B[0m\n\u001B[0;32m    413\u001B[0m method \u001B[38;5;241m=\u001B[39m \u001B[38;5;124m\"\u001B[39m\u001B[38;5;124mvisit_\u001B[39m\u001B[38;5;124m\"\u001B[39m \u001B[38;5;241m+\u001B[39m \u001B[38;5;28mtype\u001B[39m(node)\u001B[38;5;241m.\u001B[39m\u001B[38;5;18m__name__\u001B[39m\n\u001B[0;32m    414\u001B[0m visitor \u001B[38;5;241m=\u001B[39m \u001B[38;5;28mgetattr\u001B[39m(\u001B[38;5;28mself\u001B[39m, method)\n\u001B[1;32m--> 415\u001B[0m \u001B[38;5;28;01mreturn\u001B[39;00m visitor(node, \u001B[38;5;241m*\u001B[39m\u001B[38;5;241m*\u001B[39mkwargs)\n",
      "File \u001B[1;32m~\\anaconda3\\envs\\personal\\lib\\site-packages\\pandas\\core\\computation\\expr.py:421\u001B[0m, in \u001B[0;36mBaseExprVisitor.visit_Module\u001B[1;34m(self, node, **kwargs)\u001B[0m\n\u001B[0;32m    419\u001B[0m     \u001B[38;5;28;01mraise\u001B[39;00m \u001B[38;5;167;01mSyntaxError\u001B[39;00m(\u001B[38;5;124m\"\u001B[39m\u001B[38;5;124monly a single expression is allowed\u001B[39m\u001B[38;5;124m\"\u001B[39m)\n\u001B[0;32m    420\u001B[0m expr \u001B[38;5;241m=\u001B[39m node\u001B[38;5;241m.\u001B[39mbody[\u001B[38;5;241m0\u001B[39m]\n\u001B[1;32m--> 421\u001B[0m \u001B[38;5;28;01mreturn\u001B[39;00m \u001B[38;5;28mself\u001B[39m\u001B[38;5;241m.\u001B[39mvisit(expr, \u001B[38;5;241m*\u001B[39m\u001B[38;5;241m*\u001B[39mkwargs)\n",
      "File \u001B[1;32m~\\anaconda3\\envs\\personal\\lib\\site-packages\\pandas\\core\\computation\\expr.py:415\u001B[0m, in \u001B[0;36mBaseExprVisitor.visit\u001B[1;34m(self, node, **kwargs)\u001B[0m\n\u001B[0;32m    413\u001B[0m method \u001B[38;5;241m=\u001B[39m \u001B[38;5;124m\"\u001B[39m\u001B[38;5;124mvisit_\u001B[39m\u001B[38;5;124m\"\u001B[39m \u001B[38;5;241m+\u001B[39m \u001B[38;5;28mtype\u001B[39m(node)\u001B[38;5;241m.\u001B[39m\u001B[38;5;18m__name__\u001B[39m\n\u001B[0;32m    414\u001B[0m visitor \u001B[38;5;241m=\u001B[39m \u001B[38;5;28mgetattr\u001B[39m(\u001B[38;5;28mself\u001B[39m, method)\n\u001B[1;32m--> 415\u001B[0m \u001B[38;5;28;01mreturn\u001B[39;00m visitor(node, \u001B[38;5;241m*\u001B[39m\u001B[38;5;241m*\u001B[39mkwargs)\n",
      "File \u001B[1;32m~\\anaconda3\\envs\\personal\\lib\\site-packages\\pandas\\core\\computation\\expr.py:424\u001B[0m, in \u001B[0;36mBaseExprVisitor.visit_Expr\u001B[1;34m(self, node, **kwargs)\u001B[0m\n\u001B[0;32m    423\u001B[0m \u001B[38;5;28;01mdef\u001B[39;00m \u001B[38;5;21mvisit_Expr\u001B[39m(\u001B[38;5;28mself\u001B[39m, node, \u001B[38;5;241m*\u001B[39m\u001B[38;5;241m*\u001B[39mkwargs):\n\u001B[1;32m--> 424\u001B[0m     \u001B[38;5;28;01mreturn\u001B[39;00m \u001B[38;5;28mself\u001B[39m\u001B[38;5;241m.\u001B[39mvisit(node\u001B[38;5;241m.\u001B[39mvalue, \u001B[38;5;241m*\u001B[39m\u001B[38;5;241m*\u001B[39mkwargs)\n",
      "File \u001B[1;32m~\\anaconda3\\envs\\personal\\lib\\site-packages\\pandas\\core\\computation\\expr.py:415\u001B[0m, in \u001B[0;36mBaseExprVisitor.visit\u001B[1;34m(self, node, **kwargs)\u001B[0m\n\u001B[0;32m    413\u001B[0m method \u001B[38;5;241m=\u001B[39m \u001B[38;5;124m\"\u001B[39m\u001B[38;5;124mvisit_\u001B[39m\u001B[38;5;124m\"\u001B[39m \u001B[38;5;241m+\u001B[39m \u001B[38;5;28mtype\u001B[39m(node)\u001B[38;5;241m.\u001B[39m\u001B[38;5;18m__name__\u001B[39m\n\u001B[0;32m    414\u001B[0m visitor \u001B[38;5;241m=\u001B[39m \u001B[38;5;28mgetattr\u001B[39m(\u001B[38;5;28mself\u001B[39m, method)\n\u001B[1;32m--> 415\u001B[0m \u001B[38;5;28;01mreturn\u001B[39;00m visitor(node, \u001B[38;5;241m*\u001B[39m\u001B[38;5;241m*\u001B[39mkwargs)\n",
      "File \u001B[1;32m~\\anaconda3\\envs\\personal\\lib\\site-packages\\pandas\\core\\computation\\expr.py:565\u001B[0m, in \u001B[0;36mBaseExprVisitor.visit_List\u001B[1;34m(self, node, **kwargs)\u001B[0m\n\u001B[0;32m    564\u001B[0m \u001B[38;5;28;01mdef\u001B[39;00m \u001B[38;5;21mvisit_List\u001B[39m(\u001B[38;5;28mself\u001B[39m, node, \u001B[38;5;241m*\u001B[39m\u001B[38;5;241m*\u001B[39mkwargs):\n\u001B[1;32m--> 565\u001B[0m     name \u001B[38;5;241m=\u001B[39m \u001B[38;5;28mself\u001B[39m\u001B[38;5;241m.\u001B[39menv\u001B[38;5;241m.\u001B[39madd_tmp([\u001B[38;5;28mself\u001B[39m\u001B[38;5;241m.\u001B[39mvisit(e)(\u001B[38;5;28mself\u001B[39m\u001B[38;5;241m.\u001B[39menv) \u001B[38;5;28;01mfor\u001B[39;00m e \u001B[38;5;129;01min\u001B[39;00m node\u001B[38;5;241m.\u001B[39melts])\n\u001B[0;32m    566\u001B[0m     \u001B[38;5;28;01mreturn\u001B[39;00m \u001B[38;5;28mself\u001B[39m\u001B[38;5;241m.\u001B[39mterm_type(name, \u001B[38;5;28mself\u001B[39m\u001B[38;5;241m.\u001B[39menv)\n",
      "File \u001B[1;32m~\\anaconda3\\envs\\personal\\lib\\site-packages\\pandas\\core\\computation\\expr.py:565\u001B[0m, in \u001B[0;36m<listcomp>\u001B[1;34m(.0)\u001B[0m\n\u001B[0;32m    564\u001B[0m \u001B[38;5;28;01mdef\u001B[39;00m \u001B[38;5;21mvisit_List\u001B[39m(\u001B[38;5;28mself\u001B[39m, node, \u001B[38;5;241m*\u001B[39m\u001B[38;5;241m*\u001B[39mkwargs):\n\u001B[1;32m--> 565\u001B[0m     name \u001B[38;5;241m=\u001B[39m \u001B[38;5;28mself\u001B[39m\u001B[38;5;241m.\u001B[39menv\u001B[38;5;241m.\u001B[39madd_tmp([\u001B[38;5;28;43mself\u001B[39;49m\u001B[38;5;241;43m.\u001B[39;49m\u001B[43mvisit\u001B[49m\u001B[43m(\u001B[49m\u001B[43me\u001B[49m\u001B[43m)\u001B[49m(\u001B[38;5;28mself\u001B[39m\u001B[38;5;241m.\u001B[39menv) \u001B[38;5;28;01mfor\u001B[39;00m e \u001B[38;5;129;01min\u001B[39;00m node\u001B[38;5;241m.\u001B[39melts])\n\u001B[0;32m    566\u001B[0m     \u001B[38;5;28;01mreturn\u001B[39;00m \u001B[38;5;28mself\u001B[39m\u001B[38;5;241m.\u001B[39mterm_type(name, \u001B[38;5;28mself\u001B[39m\u001B[38;5;241m.\u001B[39menv)\n",
      "File \u001B[1;32m~\\anaconda3\\envs\\personal\\lib\\site-packages\\pandas\\core\\computation\\expr.py:415\u001B[0m, in \u001B[0;36mBaseExprVisitor.visit\u001B[1;34m(self, node, **kwargs)\u001B[0m\n\u001B[0;32m    413\u001B[0m method \u001B[38;5;241m=\u001B[39m \u001B[38;5;124m\"\u001B[39m\u001B[38;5;124mvisit_\u001B[39m\u001B[38;5;124m\"\u001B[39m \u001B[38;5;241m+\u001B[39m \u001B[38;5;28mtype\u001B[39m(node)\u001B[38;5;241m.\u001B[39m\u001B[38;5;18m__name__\u001B[39m\n\u001B[0;32m    414\u001B[0m visitor \u001B[38;5;241m=\u001B[39m \u001B[38;5;28mgetattr\u001B[39m(\u001B[38;5;28mself\u001B[39m, method)\n\u001B[1;32m--> 415\u001B[0m \u001B[38;5;28;01mreturn\u001B[39;00m visitor(node, \u001B[38;5;241m*\u001B[39m\u001B[38;5;241m*\u001B[39mkwargs)\n",
      "File \u001B[1;32m~\\anaconda3\\envs\\personal\\lib\\site-packages\\pandas\\core\\computation\\expr.py:549\u001B[0m, in \u001B[0;36mBaseExprVisitor.visit_Name\u001B[1;34m(self, node, **kwargs)\u001B[0m\n\u001B[0;32m    548\u001B[0m \u001B[38;5;28;01mdef\u001B[39;00m \u001B[38;5;21mvisit_Name\u001B[39m(\u001B[38;5;28mself\u001B[39m, node, \u001B[38;5;241m*\u001B[39m\u001B[38;5;241m*\u001B[39mkwargs):\n\u001B[1;32m--> 549\u001B[0m     \u001B[38;5;28;01mreturn\u001B[39;00m \u001B[38;5;28mself\u001B[39m\u001B[38;5;241m.\u001B[39mterm_type(node\u001B[38;5;241m.\u001B[39mid, \u001B[38;5;28mself\u001B[39m\u001B[38;5;241m.\u001B[39menv, \u001B[38;5;241m*\u001B[39m\u001B[38;5;241m*\u001B[39mkwargs)\n",
      "File \u001B[1;32m~\\anaconda3\\envs\\personal\\lib\\site-packages\\pandas\\core\\computation\\ops.py:98\u001B[0m, in \u001B[0;36mTerm.__init__\u001B[1;34m(self, name, env, side, encoding)\u001B[0m\n\u001B[0;32m     96\u001B[0m tname \u001B[38;5;241m=\u001B[39m \u001B[38;5;28mstr\u001B[39m(name)\n\u001B[0;32m     97\u001B[0m \u001B[38;5;28mself\u001B[39m\u001B[38;5;241m.\u001B[39mis_local \u001B[38;5;241m=\u001B[39m tname\u001B[38;5;241m.\u001B[39mstartswith(LOCAL_TAG) \u001B[38;5;129;01mor\u001B[39;00m tname \u001B[38;5;129;01min\u001B[39;00m DEFAULT_GLOBALS\n\u001B[1;32m---> 98\u001B[0m \u001B[38;5;28mself\u001B[39m\u001B[38;5;241m.\u001B[39m_value \u001B[38;5;241m=\u001B[39m \u001B[38;5;28;43mself\u001B[39;49m\u001B[38;5;241;43m.\u001B[39;49m\u001B[43m_resolve_name\u001B[49m\u001B[43m(\u001B[49m\u001B[43m)\u001B[49m\n\u001B[0;32m     99\u001B[0m \u001B[38;5;28mself\u001B[39m\u001B[38;5;241m.\u001B[39mencoding \u001B[38;5;241m=\u001B[39m encoding\n",
      "File \u001B[1;32m~\\anaconda3\\envs\\personal\\lib\\site-packages\\pandas\\core\\computation\\ops.py:115\u001B[0m, in \u001B[0;36mTerm._resolve_name\u001B[1;34m(self)\u001B[0m\n\u001B[0;32m    114\u001B[0m \u001B[38;5;28;01mdef\u001B[39;00m \u001B[38;5;21m_resolve_name\u001B[39m(\u001B[38;5;28mself\u001B[39m):\n\u001B[1;32m--> 115\u001B[0m     res \u001B[38;5;241m=\u001B[39m \u001B[38;5;28;43mself\u001B[39;49m\u001B[38;5;241;43m.\u001B[39;49m\u001B[43menv\u001B[49m\u001B[38;5;241;43m.\u001B[39;49m\u001B[43mresolve\u001B[49m\u001B[43m(\u001B[49m\u001B[38;5;28;43mself\u001B[39;49m\u001B[38;5;241;43m.\u001B[39;49m\u001B[43mlocal_name\u001B[49m\u001B[43m,\u001B[49m\u001B[43m \u001B[49m\u001B[43mis_local\u001B[49m\u001B[38;5;241;43m=\u001B[39;49m\u001B[38;5;28;43mself\u001B[39;49m\u001B[38;5;241;43m.\u001B[39;49m\u001B[43mis_local\u001B[49m\u001B[43m)\u001B[49m\n\u001B[0;32m    116\u001B[0m     \u001B[38;5;28mself\u001B[39m\u001B[38;5;241m.\u001B[39mupdate(res)\n\u001B[0;32m    118\u001B[0m     \u001B[38;5;28;01mif\u001B[39;00m \u001B[38;5;28mhasattr\u001B[39m(res, \u001B[38;5;124m\"\u001B[39m\u001B[38;5;124mndim\u001B[39m\u001B[38;5;124m\"\u001B[39m) \u001B[38;5;129;01mand\u001B[39;00m res\u001B[38;5;241m.\u001B[39mndim \u001B[38;5;241m>\u001B[39m \u001B[38;5;241m2\u001B[39m:\n",
      "File \u001B[1;32m~\\anaconda3\\envs\\personal\\lib\\site-packages\\pandas\\core\\computation\\scope.py:213\u001B[0m, in \u001B[0;36mScope.resolve\u001B[1;34m(self, key, is_local)\u001B[0m\n\u001B[0;32m    209\u001B[0m \u001B[38;5;28;01mexcept\u001B[39;00m \u001B[38;5;167;01mKeyError\u001B[39;00m \u001B[38;5;28;01mas\u001B[39;00m err:\n\u001B[0;32m    210\u001B[0m     \u001B[38;5;66;03m# runtime import because ops imports from scope\u001B[39;00m\n\u001B[0;32m    211\u001B[0m     \u001B[38;5;28;01mfrom\u001B[39;00m \u001B[38;5;21;01mpandas\u001B[39;00m\u001B[38;5;21;01m.\u001B[39;00m\u001B[38;5;21;01mcore\u001B[39;00m\u001B[38;5;21;01m.\u001B[39;00m\u001B[38;5;21;01mcomputation\u001B[39;00m\u001B[38;5;21;01m.\u001B[39;00m\u001B[38;5;21;01mops\u001B[39;00m \u001B[38;5;28;01mimport\u001B[39;00m UndefinedVariableError\n\u001B[1;32m--> 213\u001B[0m     \u001B[38;5;28;01mraise\u001B[39;00m UndefinedVariableError(key, is_local) \u001B[38;5;28;01mfrom\u001B[39;00m \u001B[38;5;21;01merr\u001B[39;00m\n",
      "\u001B[1;31mUndefinedVariableError\u001B[0m: name 'ortMünchen' is not defined"
     ]
    }
   ],
   "source": [
    "pop.query('ort' 'München,  Stadt')"
   ],
   "metadata": {
    "collapsed": false
   }
  },
  {
   "cell_type": "code",
   "execution_count": null,
   "outputs": [],
   "source": [
    "arr = []\n",
    "t = 0\n",
    "p = 0\n",
    "for i in pop['ort']:\n",
    "    try :\n",
    "        indices = plz[plz['note'].contains(i)].index.item()\n",
    "        arr.append(plz.iloc[indices ,0])\n",
    "    except ValueError:\n",
    "        arr.append(0)\n",
    "        t =+ 1\n",
    "    except IndexError:\n",
    "        arr.append(0)\n",
    "        p =+ 1"
   ],
   "metadata": {
    "collapsed": false
   }
  },
  {
   "cell_type": "code",
   "execution_count": null,
   "outputs": [],
   "source": [
    "pop['plz'] = arr"
   ],
   "metadata": {
    "collapsed": false
   }
  },
  {
   "cell_type": "code",
   "execution_count": null,
   "outputs": [],
   "source": [
    "pop"
   ],
   "metadata": {
    "collapsed": false
   }
  },
  {
   "cell_type": "code",
   "execution_count": null,
   "outputs": [],
   "source": [],
   "metadata": {
    "collapsed": false
   }
  }
 ],
 "metadata": {
  "kernelspec": {
   "display_name": "Python 3 (ipykernel)",
   "language": "python",
   "name": "python3"
  },
  "language_info": {
   "codemirror_mode": {
    "name": "ipython",
    "version": 3
   },
   "file_extension": ".py",
   "mimetype": "text/x-python",
   "name": "python",
   "nbconvert_exporter": "python",
   "pygments_lexer": "ipython3",
   "version": "3.10.4"
  }
 },
 "nbformat": 4,
 "nbformat_minor": 1
}
