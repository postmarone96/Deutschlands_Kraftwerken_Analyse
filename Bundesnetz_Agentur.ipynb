{
 "cells": [
  {
   "cell_type": "markdown",
   "id": "dcd064df",
   "metadata": {},
   "source": [
    "## Kraftwerkenverteilung in deutschland"
   ]
  },
  {
   "cell_type": "markdown",
   "source": [
    "Import libraries"
   ],
   "metadata": {
    "collapsed": false
   }
  },
  {
   "cell_type": "code",
   "execution_count": 57,
   "outputs": [],
   "source": [
    "import pandas as pd\n",
    "#import numpy as np"
   ],
   "metadata": {
    "collapsed": false
   }
  },
  {
   "cell_type": "markdown",
   "source": [
    "Read all needed csv files"
   ],
   "metadata": {
    "collapsed": false
   }
  },
  {
   "cell_type": "code",
   "execution_count": 71,
   "id": "fe510078",
   "metadata": {},
   "outputs": [
    {
     "data": {
      "text/plain": "     MaStR-Nr. der Stromerzeugungseinheit  \\\n0                         SEE958519166192   \n1                         SEE902418917676   \n2                         SEE977834211387   \n3                         SEE904017020009   \n4                         SEE930596800480   \n...                                   ...   \n1811                      SEE998356674993   \n1812                      SEE922579581844   \n1813                      SEE968206101610   \n1814                      SEE970806189455   \n1815                      SEE937830141170   \n\n     Kraftwerksnummer der Bundesnetzagentur  \\\n0                                       NaN   \n1                                   BNA1336   \n2                                       NaN   \n3                                       NaN   \n4                                   BNA0005   \n...                                     ...   \n1811                                BNA1094   \n1812                                BNA1094   \n1813                                BNA1094   \n1814                                BNA1557   \n1815                                    NaN   \n\n                          Anlagenbetreiber  \\\n0     ROGESA Roheisengesellschaft Saar mbH   \n1                     Henkel AG & Co. KGaA   \n2                            MM Neuss GmbH   \n3     ROGESA Roheisengesellschaft Saar mbH   \n4            Lausitz Energie Kraftwerke AG   \n...                                    ...   \n1811     Smurfit Kappa Zülpich Papier GmbH   \n1812     Smurfit Kappa Zülpich Papier GmbH   \n1813     Smurfit Kappa Zülpich Papier GmbH   \n1814                     VW Kraftwerk GmbH   \n1815                     VW Kraftwerk GmbH   \n\n     Anzeige-Name der Stromerzeugungseinheit  PLZ der Einheit Ort der Einheit  \\\n0                                     ET HO4            66763       Dillingen   \n1                                     Z39NEA            40589      Düsseldorf   \n2                          MM Neuss GmbH GT2            41460           Neuss   \n3                                     ET HO5            66763       Dillingen   \n4      Gasturbinenkraftwerk Ahrensfelde GT A            16356     Ahrensfelde   \n...                                      ...              ...             ...   \n1811                                     GT1            53909         Zülpich   \n1812                                     GT2            53909         Zülpich   \n1813                                     GT3            53909         Zülpich   \n1814                       BHKW-G66-KWK-groß             8058         Zwickau   \n1815                      BHKW-G66-KWK-klein             8058         Zwickau   \n\n       Straße der Einheit Hausnummer der Einheit Bundesland der Einheit  \\\n0              Werkstraße                      1               Saarland   \n1            Henkelstraße                     67    Nordrhein-Westfalen   \n2     Düsseldorfer Straße                    182    Nordrhein-Westfalen   \n3              Werkstraße                      1               Saarland   \n4     Lindenberger Straße                     12            Brandenburg   \n...                   ...                    ...                    ...   \n1811     Zum Mühlengraben                      1    Nordrhein-Westfalen   \n1812     Zum Mühlengraben                      1    Nordrhein-Westfalen   \n1813     Zum Mühlengraben                      1    Nordrhein-Westfalen   \n1814    Glauchauer Straße                     40                Sachsen   \n1815    Glauchauer Straße                     40                Sachsen   \n\n     Datum der erstmaligen Inbetriebnahme der Einheit  ...  \\\n0                                          1986-12-18  ...   \n1                                          2004-01-01  ...   \n2                                          1992-07-01  ...   \n3                                          1984-01-01  ...   \n4                                          1990-12-22  ...   \n...                                               ...  ...   \n1811                                       1996-04-01  ...   \n1812                                       1996-04-01  ...   \n1813                                       1997-12-01  ...   \n1814                                       2014-02-13  ...   \n1815                                       2017-11-28  ...   \n\n     Erneuerbarer Energieträger\\n(ja/nein)  \\\n0                                     Nein   \n1                                     Nein   \n2                                     Nein   \n3                                     Nein   \n4                                     Nein   \n...                                    ...   \n1811                                  Nein   \n1812                                  Nein   \n1813                                  Nein   \n1814                                  Nein   \n1815                                  Nein   \n\n     Ist die Stromerzeugungseinheit ein Bestandteil eines Grenzkraftwerkes?  \\\n0                                                  nein                       \n1                                                  nein                       \n2                                                  nein                       \n3                                                  nein                       \n4                                                  nein                       \n...                                                 ...                       \n1811                                               nein                       \n1812                                               nein                       \n1813                                               nein                       \n1814                                               nein                       \n1815                                               nein                       \n\n     Bruttoleistung in MW Nettonennleistung (elektrische Wirkleistung) in MW  \\\n0                  9.5200                                              9.520   \n1                  1.4000                                              1.400   \n2                  6.2000                                              4.800   \n3                  9.5200                                              9.520   \n4                 38.3400                                             37.104   \n...                   ...                                                ...   \n1811               5.4000                                              4.946   \n1812               5.9895                                              4.946   \n1813               5.4000                                              4.946   \n1814              12.9000                                             12.900   \n1815               1.9000                                              1.900   \n\n     Ist die Stromerzeugungseinheit ein Bestandteil eines Grenzkraftwerkes?: ja \\nNettonennleistung der Einspeisung in ein deutsches Netz:  \\\n0                                                   NaN                                                                                      \n1                                                   NaN                                                                                      \n2                                                   NaN                                                                                      \n3                                                   NaN                                                                                      \n4                                                   NaN                                                                                      \n...                                                 ...                                                                                      \n1811                                                NaN                                                                                      \n1812                                                NaN                                                                                      \n1813                                                NaN                                                                                      \n1814                                                NaN                                                                                      \n1815                                                NaN                                                                                      \n\n     Technologie der Stromerzeugung Volleinspeisung oder Teileinspeisung?  \\\n0                          Sonstige                       Teileinspeisung   \n1                 Verbrennungsmotor                       Teileinspeisung   \n2     Gasturbinen mit Abhitzekessel                       Teileinspeisung   \n3                          Sonstige                       Teileinspeisung   \n4     Gasturbinen mit Abhitzekessel                       Volleinspeisung   \n...                             ...                                   ...   \n1811  Gasturbinen mit Abhitzekessel                       Volleinspeisung   \n1812  Gasturbinen mit Abhitzekessel                       Volleinspeisung   \n1813  Gasturbinen mit Abhitzekessel                       Volleinspeisung   \n1814              Verbrennungsmotor                       Teileinspeisung   \n1815              Verbrennungsmotor                       Teileinspeisung   \n\n                                 Anschlussnetzbetreiber  \\\n0     Amprion GmbH (SNB976890256486); VSE Verteilnet...   \n1     Netzgesellschaft Düsseldorf mbH (SNB933956506145)   \n2                       Westnetz GmbH (SNB921897286493)   \n3     Amprion GmbH (SNB976890256486); VSE Verteilnet...   \n4           50Hertz Transmission GmbH (SNB982046657236)   \n...                                                 ...   \n1811                    Westnetz GmbH (SNB921897286493)   \n1812                    Westnetz GmbH (SNB921897286493)   \n1813                    Westnetz GmbH (SNB921897286493)   \n1814  Mitteldeutsche Netzgesellschaft Strom mbH (SNB...   \n1815  Mitteldeutsche Netzgesellschaft Strom mbH (SNB...   \n\n                                Spannungsebene  \\\n0               Höchstspannung; Mittelspannung   \n1                               Mittelspannung   \n2     Umspannebene Hochspannung/Mittelspannung   \n3               Höchstspannung; Mittelspannung   \n4                                 Hochspannung   \n...                                        ...   \n1811  Umspannebene Hochspannung/Mittelspannung   \n1812  Umspannebene Hochspannung/Mittelspannung   \n1813  Umspannebene Hochspannung/Mittelspannung   \n1814  Umspannebene Hochspannung/Mittelspannung   \n1815  Umspannebene Hochspannung/Mittelspannung   \n\n      Wenn Energieträger Speicher: Nutzbare Speicherkapazität in Mwh  \n0                                                   NaN               \n1                                                   NaN               \n2                                                   NaN               \n3                                                   NaN               \n4                                                   NaN               \n...                                                 ...               \n1811                                                NaN               \n1812                                                NaN               \n1813                                                NaN               \n1814                                                NaN               \n1815                                                NaN               \n\n[1816 rows x 26 columns]",
      "text/html": "<div>\n<style scoped>\n    .dataframe tbody tr th:only-of-type {\n        vertical-align: middle;\n    }\n\n    .dataframe tbody tr th {\n        vertical-align: top;\n    }\n\n    .dataframe thead th {\n        text-align: right;\n    }\n</style>\n<table border=\"1\" class=\"dataframe\">\n  <thead>\n    <tr style=\"text-align: right;\">\n      <th></th>\n      <th>MaStR-Nr. der Stromerzeugungseinheit</th>\n      <th>Kraftwerksnummer der Bundesnetzagentur</th>\n      <th>Anlagenbetreiber</th>\n      <th>Anzeige-Name der Stromerzeugungseinheit</th>\n      <th>PLZ der Einheit</th>\n      <th>Ort der Einheit</th>\n      <th>Straße der Einheit</th>\n      <th>Hausnummer der Einheit</th>\n      <th>Bundesland der Einheit</th>\n      <th>Datum der erstmaligen Inbetriebnahme der Einheit</th>\n      <th>...</th>\n      <th>Erneuerbarer Energieträger\\n(ja/nein)</th>\n      <th>Ist die Stromerzeugungseinheit ein Bestandteil eines Grenzkraftwerkes?</th>\n      <th>Bruttoleistung in MW</th>\n      <th>Nettonennleistung (elektrische Wirkleistung) in MW</th>\n      <th>Ist die Stromerzeugungseinheit ein Bestandteil eines Grenzkraftwerkes?: ja \\nNettonennleistung der Einspeisung in ein deutsches Netz:</th>\n      <th>Technologie der Stromerzeugung</th>\n      <th>Volleinspeisung oder Teileinspeisung?</th>\n      <th>Anschlussnetzbetreiber</th>\n      <th>Spannungsebene</th>\n      <th>Wenn Energieträger Speicher: Nutzbare Speicherkapazität in Mwh</th>\n    </tr>\n  </thead>\n  <tbody>\n    <tr>\n      <th>0</th>\n      <td>SEE958519166192</td>\n      <td>NaN</td>\n      <td>ROGESA Roheisengesellschaft Saar mbH</td>\n      <td>ET HO4</td>\n      <td>66763</td>\n      <td>Dillingen</td>\n      <td>Werkstraße</td>\n      <td>1</td>\n      <td>Saarland</td>\n      <td>1986-12-18</td>\n      <td>...</td>\n      <td>Nein</td>\n      <td>nein</td>\n      <td>9.5200</td>\n      <td>9.520</td>\n      <td>NaN</td>\n      <td>Sonstige</td>\n      <td>Teileinspeisung</td>\n      <td>Amprion GmbH (SNB976890256486); VSE Verteilnet...</td>\n      <td>Höchstspannung; Mittelspannung</td>\n      <td>NaN</td>\n    </tr>\n    <tr>\n      <th>1</th>\n      <td>SEE902418917676</td>\n      <td>BNA1336</td>\n      <td>Henkel AG &amp; Co. KGaA</td>\n      <td>Z39NEA</td>\n      <td>40589</td>\n      <td>Düsseldorf</td>\n      <td>Henkelstraße</td>\n      <td>67</td>\n      <td>Nordrhein-Westfalen</td>\n      <td>2004-01-01</td>\n      <td>...</td>\n      <td>Nein</td>\n      <td>nein</td>\n      <td>1.4000</td>\n      <td>1.400</td>\n      <td>NaN</td>\n      <td>Verbrennungsmotor</td>\n      <td>Teileinspeisung</td>\n      <td>Netzgesellschaft Düsseldorf mbH (SNB933956506145)</td>\n      <td>Mittelspannung</td>\n      <td>NaN</td>\n    </tr>\n    <tr>\n      <th>2</th>\n      <td>SEE977834211387</td>\n      <td>NaN</td>\n      <td>MM Neuss GmbH</td>\n      <td>MM Neuss GmbH GT2</td>\n      <td>41460</td>\n      <td>Neuss</td>\n      <td>Düsseldorfer Straße</td>\n      <td>182</td>\n      <td>Nordrhein-Westfalen</td>\n      <td>1992-07-01</td>\n      <td>...</td>\n      <td>Nein</td>\n      <td>nein</td>\n      <td>6.2000</td>\n      <td>4.800</td>\n      <td>NaN</td>\n      <td>Gasturbinen mit Abhitzekessel</td>\n      <td>Teileinspeisung</td>\n      <td>Westnetz GmbH (SNB921897286493)</td>\n      <td>Umspannebene Hochspannung/Mittelspannung</td>\n      <td>NaN</td>\n    </tr>\n    <tr>\n      <th>3</th>\n      <td>SEE904017020009</td>\n      <td>NaN</td>\n      <td>ROGESA Roheisengesellschaft Saar mbH</td>\n      <td>ET HO5</td>\n      <td>66763</td>\n      <td>Dillingen</td>\n      <td>Werkstraße</td>\n      <td>1</td>\n      <td>Saarland</td>\n      <td>1984-01-01</td>\n      <td>...</td>\n      <td>Nein</td>\n      <td>nein</td>\n      <td>9.5200</td>\n      <td>9.520</td>\n      <td>NaN</td>\n      <td>Sonstige</td>\n      <td>Teileinspeisung</td>\n      <td>Amprion GmbH (SNB976890256486); VSE Verteilnet...</td>\n      <td>Höchstspannung; Mittelspannung</td>\n      <td>NaN</td>\n    </tr>\n    <tr>\n      <th>4</th>\n      <td>SEE930596800480</td>\n      <td>BNA0005</td>\n      <td>Lausitz Energie Kraftwerke AG</td>\n      <td>Gasturbinenkraftwerk Ahrensfelde GT A</td>\n      <td>16356</td>\n      <td>Ahrensfelde</td>\n      <td>Lindenberger Straße</td>\n      <td>12</td>\n      <td>Brandenburg</td>\n      <td>1990-12-22</td>\n      <td>...</td>\n      <td>Nein</td>\n      <td>nein</td>\n      <td>38.3400</td>\n      <td>37.104</td>\n      <td>NaN</td>\n      <td>Gasturbinen mit Abhitzekessel</td>\n      <td>Volleinspeisung</td>\n      <td>50Hertz Transmission GmbH (SNB982046657236)</td>\n      <td>Hochspannung</td>\n      <td>NaN</td>\n    </tr>\n    <tr>\n      <th>...</th>\n      <td>...</td>\n      <td>...</td>\n      <td>...</td>\n      <td>...</td>\n      <td>...</td>\n      <td>...</td>\n      <td>...</td>\n      <td>...</td>\n      <td>...</td>\n      <td>...</td>\n      <td>...</td>\n      <td>...</td>\n      <td>...</td>\n      <td>...</td>\n      <td>...</td>\n      <td>...</td>\n      <td>...</td>\n      <td>...</td>\n      <td>...</td>\n      <td>...</td>\n      <td>...</td>\n    </tr>\n    <tr>\n      <th>1811</th>\n      <td>SEE998356674993</td>\n      <td>BNA1094</td>\n      <td>Smurfit Kappa Zülpich Papier GmbH</td>\n      <td>GT1</td>\n      <td>53909</td>\n      <td>Zülpich</td>\n      <td>Zum Mühlengraben</td>\n      <td>1</td>\n      <td>Nordrhein-Westfalen</td>\n      <td>1996-04-01</td>\n      <td>...</td>\n      <td>Nein</td>\n      <td>nein</td>\n      <td>5.4000</td>\n      <td>4.946</td>\n      <td>NaN</td>\n      <td>Gasturbinen mit Abhitzekessel</td>\n      <td>Volleinspeisung</td>\n      <td>Westnetz GmbH (SNB921897286493)</td>\n      <td>Umspannebene Hochspannung/Mittelspannung</td>\n      <td>NaN</td>\n    </tr>\n    <tr>\n      <th>1812</th>\n      <td>SEE922579581844</td>\n      <td>BNA1094</td>\n      <td>Smurfit Kappa Zülpich Papier GmbH</td>\n      <td>GT2</td>\n      <td>53909</td>\n      <td>Zülpich</td>\n      <td>Zum Mühlengraben</td>\n      <td>1</td>\n      <td>Nordrhein-Westfalen</td>\n      <td>1996-04-01</td>\n      <td>...</td>\n      <td>Nein</td>\n      <td>nein</td>\n      <td>5.9895</td>\n      <td>4.946</td>\n      <td>NaN</td>\n      <td>Gasturbinen mit Abhitzekessel</td>\n      <td>Volleinspeisung</td>\n      <td>Westnetz GmbH (SNB921897286493)</td>\n      <td>Umspannebene Hochspannung/Mittelspannung</td>\n      <td>NaN</td>\n    </tr>\n    <tr>\n      <th>1813</th>\n      <td>SEE968206101610</td>\n      <td>BNA1094</td>\n      <td>Smurfit Kappa Zülpich Papier GmbH</td>\n      <td>GT3</td>\n      <td>53909</td>\n      <td>Zülpich</td>\n      <td>Zum Mühlengraben</td>\n      <td>1</td>\n      <td>Nordrhein-Westfalen</td>\n      <td>1997-12-01</td>\n      <td>...</td>\n      <td>Nein</td>\n      <td>nein</td>\n      <td>5.4000</td>\n      <td>4.946</td>\n      <td>NaN</td>\n      <td>Gasturbinen mit Abhitzekessel</td>\n      <td>Volleinspeisung</td>\n      <td>Westnetz GmbH (SNB921897286493)</td>\n      <td>Umspannebene Hochspannung/Mittelspannung</td>\n      <td>NaN</td>\n    </tr>\n    <tr>\n      <th>1814</th>\n      <td>SEE970806189455</td>\n      <td>BNA1557</td>\n      <td>VW Kraftwerk GmbH</td>\n      <td>BHKW-G66-KWK-groß</td>\n      <td>8058</td>\n      <td>Zwickau</td>\n      <td>Glauchauer Straße</td>\n      <td>40</td>\n      <td>Sachsen</td>\n      <td>2014-02-13</td>\n      <td>...</td>\n      <td>Nein</td>\n      <td>nein</td>\n      <td>12.9000</td>\n      <td>12.900</td>\n      <td>NaN</td>\n      <td>Verbrennungsmotor</td>\n      <td>Teileinspeisung</td>\n      <td>Mitteldeutsche Netzgesellschaft Strom mbH (SNB...</td>\n      <td>Umspannebene Hochspannung/Mittelspannung</td>\n      <td>NaN</td>\n    </tr>\n    <tr>\n      <th>1815</th>\n      <td>SEE937830141170</td>\n      <td>NaN</td>\n      <td>VW Kraftwerk GmbH</td>\n      <td>BHKW-G66-KWK-klein</td>\n      <td>8058</td>\n      <td>Zwickau</td>\n      <td>Glauchauer Straße</td>\n      <td>40</td>\n      <td>Sachsen</td>\n      <td>2017-11-28</td>\n      <td>...</td>\n      <td>Nein</td>\n      <td>nein</td>\n      <td>1.9000</td>\n      <td>1.900</td>\n      <td>NaN</td>\n      <td>Verbrennungsmotor</td>\n      <td>Teileinspeisung</td>\n      <td>Mitteldeutsche Netzgesellschaft Strom mbH (SNB...</td>\n      <td>Umspannebene Hochspannung/Mittelspannung</td>\n      <td>NaN</td>\n    </tr>\n  </tbody>\n</table>\n<p>1816 rows × 26 columns</p>\n</div>"
     },
     "execution_count": 71,
     "metadata": {},
     "output_type": "execute_result"
    }
   ],
   "source": [
    "#POWERPLANTS\n",
    "kwk = pd.read_excel('Kraftwerksliste_2022.xlsx',\n",
    "                  sheet_name = 'Gesamtkraftwerksliste BNetzA',\n",
    "                  header = 9,\n",
    "                  nrows = 1816)\n",
    "#POPULATION\n",
    "#demographic = pd.read_excel('31122021_Auszug_GV.xlsx',\n",
    " #                         sheet_name = 'Onlineprodukt_Gemeinden',\n",
    "  #                        )\n",
    "\n",
    "kwk"
   ]
  },
  {
   "cell_type": "code",
   "execution_count": 67,
   "outputs": [
    {
     "data": {
      "text/plain": "           Unnamed: 13     Unnamed: 9\n1      Postleit-zahl3)  Bevölkerung2)\n8                24937          91113\n11               24103         246243\n14               23539         216277\n17               24534          79496\n...                ...            ...\n16059            04618            222\n16060            04618           1732\n16061            04603           7141\n16063            04626            430\n16064            04626          13620\n\n[10794 rows x 2 columns]",
      "text/html": "<div>\n<style scoped>\n    .dataframe tbody tr th:only-of-type {\n        vertical-align: middle;\n    }\n\n    .dataframe tbody tr th {\n        vertical-align: top;\n    }\n\n    .dataframe thead th {\n        text-align: right;\n    }\n</style>\n<table border=\"1\" class=\"dataframe\">\n  <thead>\n    <tr style=\"text-align: right;\">\n      <th></th>\n      <th>Unnamed: 13</th>\n      <th>Unnamed: 9</th>\n    </tr>\n  </thead>\n  <tbody>\n    <tr>\n      <th>1</th>\n      <td>Postleit-zahl3)</td>\n      <td>Bevölkerung2)</td>\n    </tr>\n    <tr>\n      <th>8</th>\n      <td>24937</td>\n      <td>91113</td>\n    </tr>\n    <tr>\n      <th>11</th>\n      <td>24103</td>\n      <td>246243</td>\n    </tr>\n    <tr>\n      <th>14</th>\n      <td>23539</td>\n      <td>216277</td>\n    </tr>\n    <tr>\n      <th>17</th>\n      <td>24534</td>\n      <td>79496</td>\n    </tr>\n    <tr>\n      <th>...</th>\n      <td>...</td>\n      <td>...</td>\n    </tr>\n    <tr>\n      <th>16059</th>\n      <td>04618</td>\n      <td>222</td>\n    </tr>\n    <tr>\n      <th>16060</th>\n      <td>04618</td>\n      <td>1732</td>\n    </tr>\n    <tr>\n      <th>16061</th>\n      <td>04603</td>\n      <td>7141</td>\n    </tr>\n    <tr>\n      <th>16063</th>\n      <td>04626</td>\n      <td>430</td>\n    </tr>\n    <tr>\n      <th>16064</th>\n      <td>04626</td>\n      <td>13620</td>\n    </tr>\n  </tbody>\n</table>\n<p>10794 rows × 2 columns</p>\n</div>"
     },
     "execution_count": 67,
     "metadata": {},
     "output_type": "execute_result"
    }
   ],
   "source": [
    "demographic = demographic[['Unnamed: 13','Unnamed: 9']]\n",
    "demographic.dropna()\n"
   ],
   "metadata": {
    "collapsed": false
   }
  },
  {
   "cell_type": "markdown",
   "source": [
    "Print the DataFrame"
   ],
   "metadata": {
    "collapsed": false
   }
  },
  {
   "cell_type": "code",
   "execution_count": 62,
   "outputs": [
    {
     "name": "stdout",
     "output_type": "stream",
     "text": [
      "  MaStR-Nr. der Stromerzeugungseinheit Kraftwerksnummer der Bundesnetzagentur  \\\n",
      "0                      SEE958519166192                                    NaN   \n",
      "1                      SEE902418917676                                BNA1336   \n",
      "2                      SEE977834211387                                    NaN   \n",
      "3                      SEE904017020009                                    NaN   \n",
      "4                      SEE930596800480                                BNA0005   \n",
      "\n",
      "                       Anlagenbetreiber  \\\n",
      "0  ROGESA Roheisengesellschaft Saar mbH   \n",
      "1                  Henkel AG & Co. KGaA   \n",
      "2                         MM Neuss GmbH   \n",
      "3  ROGESA Roheisengesellschaft Saar mbH   \n",
      "4         Lausitz Energie Kraftwerke AG   \n",
      "\n",
      "  Anzeige-Name der Stromerzeugungseinheit  PLZ der Einheit Ort der Einheit  \\\n",
      "0                                  ET HO4            66763       Dillingen   \n",
      "1                                  Z39NEA            40589      Düsseldorf   \n",
      "2                       MM Neuss GmbH GT2            41460           Neuss   \n",
      "3                                  ET HO5            66763       Dillingen   \n",
      "4   Gasturbinenkraftwerk Ahrensfelde GT A            16356     Ahrensfelde   \n",
      "\n",
      "    Straße der Einheit Hausnummer der Einheit Bundesland der Einheit  \\\n",
      "0           Werkstraße                      1               Saarland   \n",
      "1         Henkelstraße                     67    Nordrhein-Westfalen   \n",
      "2  Düsseldorfer Straße                    182    Nordrhein-Westfalen   \n",
      "3           Werkstraße                      1               Saarland   \n",
      "4  Lindenberger Straße                     12            Brandenburg   \n",
      "\n",
      "  Datum der erstmaligen Inbetriebnahme der Einheit  ...  \\\n",
      "0                                       1986-12-18  ...   \n",
      "1                                       2004-01-01  ...   \n",
      "2                                       1992-07-01  ...   \n",
      "3                                       1984-01-01  ...   \n",
      "4                                       1990-12-22  ...   \n",
      "\n",
      "  Erneuerbarer Energieträger\\n(ja/nein)  \\\n",
      "0                                  Nein   \n",
      "1                                  Nein   \n",
      "2                                  Nein   \n",
      "3                                  Nein   \n",
      "4                                  Nein   \n",
      "\n",
      "  Ist die Stromerzeugungseinheit ein Bestandteil eines Grenzkraftwerkes?  \\\n",
      "0                                               nein                       \n",
      "1                                               nein                       \n",
      "2                                               nein                       \n",
      "3                                               nein                       \n",
      "4                                               nein                       \n",
      "\n",
      "  Bruttoleistung in MW Nettonennleistung (elektrische Wirkleistung) in MW  \\\n",
      "0                 9.52                                              9.520   \n",
      "1                 1.40                                              1.400   \n",
      "2                 6.20                                              4.800   \n",
      "3                 9.52                                              9.520   \n",
      "4                38.34                                             37.104   \n",
      "\n",
      "  Ist die Stromerzeugungseinheit ein Bestandteil eines Grenzkraftwerkes?: ja \\nNettonennleistung der Einspeisung in ein deutsches Netz:  \\\n",
      "0                                                NaN                                                                                      \n",
      "1                                                NaN                                                                                      \n",
      "2                                                NaN                                                                                      \n",
      "3                                                NaN                                                                                      \n",
      "4                                                NaN                                                                                      \n",
      "\n",
      "  Technologie der Stromerzeugung Volleinspeisung oder Teileinspeisung?  \\\n",
      "0                       Sonstige                       Teileinspeisung   \n",
      "1              Verbrennungsmotor                       Teileinspeisung   \n",
      "2  Gasturbinen mit Abhitzekessel                       Teileinspeisung   \n",
      "3                       Sonstige                       Teileinspeisung   \n",
      "4  Gasturbinen mit Abhitzekessel                       Volleinspeisung   \n",
      "\n",
      "                              Anschlussnetzbetreiber  \\\n",
      "0  Amprion GmbH (SNB976890256486); VSE Verteilnet...   \n",
      "1  Netzgesellschaft Düsseldorf mbH (SNB933956506145)   \n",
      "2                    Westnetz GmbH (SNB921897286493)   \n",
      "3  Amprion GmbH (SNB976890256486); VSE Verteilnet...   \n",
      "4        50Hertz Transmission GmbH (SNB982046657236)   \n",
      "\n",
      "                             Spannungsebene  \\\n",
      "0            Höchstspannung; Mittelspannung   \n",
      "1                            Mittelspannung   \n",
      "2  Umspannebene Hochspannung/Mittelspannung   \n",
      "3            Höchstspannung; Mittelspannung   \n",
      "4                              Hochspannung   \n",
      "\n",
      "   Wenn Energieträger Speicher: Nutzbare Speicherkapazität in Mwh  \n",
      "0                                                NaN               \n",
      "1                                                NaN               \n",
      "2                                                NaN               \n",
      "3                                                NaN               \n",
      "4                                                NaN               \n",
      "\n",
      "[5 rows x 26 columns]\n",
      "  Gemeinden in Deutschland nach Fläche, Bevölkerung und Postleitzahl am 31.12.2021 (Jahr)  \\\n",
      "0                                                NaN                                        \n",
      "1                                           Satz-art                                        \n",
      "2                                                NaN                                        \n",
      "3                                                NaN                                        \n",
      "4                                                NaN                                        \n",
      "\n",
      "          Unnamed: 1                         Unnamed: 2 Unnamed: 3 Unnamed: 4  \\\n",
      "0                NaN                                NaN        NaN        NaN   \n",
      "1  Text-kenn-zeichen  Amtlicher Regionalschlüssel (ARS)        NaN        NaN   \n",
      "2                NaN                               Land         RB      Kreis   \n",
      "3                NaN  Gebietsstand am 31.12.2021 (Jahr)        NaN        NaN   \n",
      "4                NaN                                NaN        NaN        NaN   \n",
      "\n",
      "  Unnamed: 5 Unnamed: 6    Unnamed: 7         Unnamed: 8  \\\n",
      "0        NaN        NaN           NaN                NaN   \n",
      "1        NaN        NaN  Gemeindename      Fläche km2 1)   \n",
      "2         VB        Gem           NaN                NaN   \n",
      "3        NaN        NaN           NaN  31.12.2021 (Jahr)   \n",
      "4        NaN        NaN           NaN                NaN   \n",
      "\n",
      "             Unnamed: 9 Unnamed: 10 Unnamed: 11 Unnamed: 12      Unnamed: 13  \\\n",
      "0                   NaN         NaN         NaN         NaN              NaN   \n",
      "1         Bevölkerung2)         NaN         NaN         NaN  Postleit-zahl3)   \n",
      "2             insgesamt    männlich    weiblich      je km2              NaN   \n",
      "3  am 31.12.2021 (Jahr)         NaN         NaN         NaN              NaN   \n",
      "4                   NaN         NaN         NaN         NaN              NaN   \n",
      "\n",
      "                           Unnamed: 14  Unnamed: 15   Unnamed: 16  \\\n",
      "0                                  NaN          NaN           NaN   \n",
      "1  Geografische Mittelpunktkoordinaten          NaN  Reisegebiete   \n",
      "2                           Längengrad  Breitengrad           NaN   \n",
      "3        Zuordnungsstand am 31.12.2020          NaN     Schlüssel   \n",
      "4                                  NaN          NaN           NaN   \n",
      "\n",
      "   Unnamed: 17             Unnamed: 18  Unnamed: 19  \n",
      "0          NaN                     NaN          NaN  \n",
      "1          NaN  Grad der Verstädterung          NaN  \n",
      "2          NaN                     NaN          NaN  \n",
      "3  Bezeichnung               Schlüssel  Bezeichnung  \n",
      "4          NaN                     NaN          NaN  \n"
     ]
    }
   ],
   "source": [
    "#POWERPLANTS\n",
    "print(kwk.head())\n",
    "\n",
    "#POPULATION\n",
    "print(demographic.head())"
   ],
   "metadata": {
    "collapsed": false
   }
  },
  {
   "cell_type": "code",
   "execution_count": 37,
   "outputs": [
    {
     "data": {
      "text/plain": "Index(['PLZ der Einheit', 'Ort der Einheit', 'Bundesland der Einheit',\n       'Datum der erstmaligen Inbetriebnahme der Einheit',\n       'Kraftwerksstatus der Einheit', 'Energieträger', 'Hauptbrennstoff',\n       'Ist die Stromerzeugungseinheit ein Bestandteil eines Grenzkraftwerkes?',\n       'Bruttoleistung in MW',\n       'Nettonennleistung (elektrische Wirkleistung) in MW',\n       'Ist die Stromerzeugungseinheit ein Bestandteil eines Grenzkraftwerkes?: ja \\nNettonennleistung der Einspeisung in ein deutsches Netz:',\n       'Technologie der Stromerzeugung',\n       'Volleinspeisung oder Teileinspeisung?',\n       'Wenn Energieträger Speicher: Nutzbare Speicherkapazität in Mwh'],\n      dtype='object')"
     },
     "execution_count": 37,
     "metadata": {},
     "output_type": "execute_result"
    }
   ],
   "source": [
    "#POWERPLANT DATA COLUMNS\n",
    "kwk.columns"
   ],
   "metadata": {
    "collapsed": false
   }
  },
  {
   "cell_type": "markdown",
   "source": [
    "DataFrame modifications"
   ],
   "metadata": {
    "collapsed": false
   }
  },
  {
   "cell_type": "code",
   "execution_count": 26,
   "outputs": [],
   "source": [
    "#POWERPLANTS\n",
    "kwk.drop(['MaStR-Nr. der Stromerzeugungseinheit',\n",
    "         'Kraftwerksnummer der Bundesnetzagentur',\n",
    "         'Hausnummer der Einheit',\n",
    "         'Straße der Einheit',\n",
    "         'Anzeige-Name der Stromerzeugungseinheit',\n",
    "         'Anlagenbetreiber',\n",
    "         'Spannungsebene',\n",
    "         'Anschlussnetzbetreiber',\n",
    "         'Erneuerbarer Energieträger\\n(ja/nein)',\n",
    "         'Förderberechtigt nach EEG\\n(ja/nein)',\n",
    "         'Wärmeauskopplung (KWK)\\n(ja/nein)',\n",
    "         'Auswertung Energieträger'],\n",
    "         axis=1,\n",
    "         inplace=True)\n"
   ],
   "metadata": {
    "collapsed": false
   }
  },
  {
   "cell_type": "markdown",
   "source": [
    "Create a new DataFrame with PLZ, Population and powerplant as columns"
   ],
   "metadata": {
    "collapsed": false
   }
  },
  {
   "cell_type": "code",
   "execution_count": 54,
   "outputs": [],
   "source": [
    "def plz_to_pop (x):\n",
    "        return x in demographic['plz']"
   ],
   "metadata": {
    "collapsed": false
   }
  },
  {
   "cell_type": "code",
   "execution_count": 56,
   "outputs": [
    {
     "name": "stdout",
     "output_type": "stream",
     "text": [
      "179\n",
      "1637\n"
     ]
    }
   ],
   "source": [
    "t=0\n",
    "f=0\n",
    "for i in kwk['PLZ der Einheit']:\n",
    "    if plz_to_pop(i) is True:\n",
    "        t+=1\n",
    "    else:\n",
    "        f+=1\n",
    "print(t)\n",
    "print(f)\n"
   ],
   "metadata": {
    "collapsed": false
   }
  },
  {
   "cell_type": "code",
   "execution_count": 46,
   "outputs": [
    {
     "data": {
      "text/plain": "0        1067\n1        1069\n2        1097\n3        1099\n4        1108\n        ...  \n8165    99988\n8166    99991\n8167    99994\n8168    99996\n8169    99998\nName: plz, Length: 8170, dtype: int64"
     },
     "execution_count": 46,
     "metadata": {},
     "output_type": "execute_result"
    }
   ],
   "source": [
    "demographic['plz']"
   ],
   "metadata": {
    "collapsed": false
   }
  },
  {
   "cell_type": "code",
   "execution_count": 44,
   "outputs": [
    {
     "name": "stderr",
     "output_type": "stream",
     "text": [
      "/var/folders/wj/pxfld4h17pnfcqpbdc_sb9pr0000gn/T/ipykernel_52601/3086983388.py:2: SettingWithCopyWarning: \n",
      "A value is trying to be set on a copy of a slice from a DataFrame.\n",
      "Try using .loc[row_indexer,col_indexer] = value instead\n",
      "\n",
      "See the caveats in the documentation: https://pandas.pydata.org/pandas-docs/stable/user_guide/indexing.html#returning-a-view-versus-a-copy\n",
      "  pop_kwk['PLZ in List'] = pop_kwk['PLZ der Einheit'].apply(lambda x: plz_in_list(x))\n"
     ]
    }
   ],
   "source": [
    "pop_kwk = kwk[['Energieträger','Nettonennleistung (elektrische Wirkleistung) in MW','PLZ der Einheit']]\n",
    "pop_kwk['PLZ in List'] = pop_kwk['PLZ der Einheit'].apply(lambda x: plz_in_list(x))"
   ],
   "metadata": {
    "collapsed": false
   }
  },
  {
   "cell_type": "markdown",
   "source": [],
   "metadata": {
    "collapsed": false
   }
  },
  {
   "cell_type": "code",
   "execution_count": 14,
   "outputs": [
    {
     "name": "stdout",
     "output_type": "stream",
     "text": [
      "['Saarland' 'Nordrhein-Westfalen' 'Brandenburg' 'Baden-Württemberg'\n",
      " 'Niedersachsen' 'Bayern' 'Thüringen' 'Rheinland-Pfalz'\n",
      " 'Mecklenburg-Vorpommern' 'Sachsen-Anhalt' 'Hessen' 'Sachsen' 'Berlin'\n",
      " 'Schleswig-Holstein' 'Bremen' 'Hamburg' 'Österreich' 'Schweiz'\n",
      " 'Luxemburg']\n",
      "[1099, 1156, 1159, 1277, 1454, 1468, 1983, 1987, 2943, 2991, 3052, 3130, 3185, 4105, 4349, 4509, 4539, 4575, 4680, 4687, 4828, 4838, 4860, 4862, 4910, 6118, 6130, 6183, 6237, 6242, 6258, 6317, 6406, 6420, 6424, 6502, 6679, 6686, 6712, 6749, 6766, 6794, 6842, 6886, 7338, 7366, 7407, 7546, 7549, 7745, 7907, 7929, 8058, 8352, 9114, 9463, 9599, 9600, 9648, 10179, 10317, 10589, 12059, 12207, 12355, 12681, 13353, 13599, 14478, 14727, 14772, 14774, 14929, 15236, 15562, 15711, 15806, 15837, 15848, 15890, 16225, 16303, 16356, 16909, 17034, 17139, 17329, 17389, 17489, 17509, 18069, 18147, 19057, 19061, 20457, 20537, 21033, 21107, 21129, 21502, 21683, 22047, 22113, 22145, 22149, 22525, 22769, 22880, 24116, 24149, 24534, 24582, 24783, 24939, 24994, 25348, 25541, 25588, 25770, 26197, 26316, 26386, 26725, 26826, 26871, 26931, 26954, 27318, 27337, 27570, 28207, 28219, 28237, 28777, 28870, 29331, 29410, 29525, 29699, 30419, 30449, 30659, 31061, 31171, 31249, 31311, 31515, 31628, 31789, 32278, 32469, 32657, 32791, 32805, 33332, 33378, 33609, 33611, 33699, 34123, 34134, 34225, 34549, 34590, 35260, 36039, 36043, 36119, 36266, 36269, 36414, 36433, 37075, 37213, 37345, 37412, 37574, 38112, 38114, 38239, 38315, 38372, 38440, 39126, 39164, 39249, 39326, 39418, 39576, 39596, 40221, 40233, 40476, 40589, 40699, 41460, 41517, 41540, 42275, 42289, 42349, 44143, 44147, 44536, 44579, 44653, 44805, 45329, 45665, 45699, 45711, 45772, 45896, 46045, 46049, 46147, 46242, 46325, 47053, 47166, 47179, 47198, 47249, 47259, 47443, 47475, 47495, 47546, 47804, 47809, 47829, 47906, 48155, 48163, 48499, 49086, 49090, 49479, 49638, 49808, 49811, 49824, 50127, 50129, 50226, 50354, 50389, 50735, 50769, 50997, 51109, 51373, 51465, 52249, 52396, 52428, 53115, 53879, 53909, 54294, 54340, 54441, 54487, 54492, 54597, 55120, 55218, 55246, 55543, 56073, 56254, 56332, 56479, 56626, 56727, 56814, 56850, 56858, 57413, 57439, 58099, 58313, 58636, 58791, 59067, 59071, 59075, 59192, 59368, 59821, 59929, 60327, 60386, 60439, 60528, 63067, 63069, 63225, 63538, 63741, 63811, 63906, 64293, 64747, 65203, 65205, 65428, 65439, 65929, 66117, 66121, 66127, 66287, 66333, 66450, 66538, 66606, 66740, 66763, 66877, 66954, 67063, 67065, 67283, 67468, 67547, 67655, 68167, 68169, 68199, 68305, 69120, 70327, 70376, 70567, 70569, 71032, 71063, 71287, 71672, 72074, 72076, 72359, 72555, 72762, 73037, 73312, 73776, 74076, 74172, 74254, 74382, 74399, 75175, 76187, 76189, 76473, 76593, 76596, 76744, 76855, 77694, 77704, 79106, 79108, 79427, 79618, 79639, 79664, 79713, 79739, 79761, 79774, 79777, 79804, 79837, 80807, 80809, 80937, 81371, 82064, 82431, 82432, 83022, 83026, 83064, 83071, 83080, 83101, 83131, 83512, 83536, 83543, 83564, 83620, 83734, 84030, 84051, 84100, 84130, 84183, 84184, 84375, 84489, 84508, 84513, 84524, 84533, 84567, 84579, 85049, 85055, 85057, 85088, 85092, 85098, 85107, 85356, 85368, 85406, 85445, 85462, 85774, 86152, 86153, 86165, 86167, 86405, 86504, 86511, 86556, 86633, 86641, 86643, 86673, 86679, 86698, 86833, 86916, 86931, 86937, 86956, 86972, 86977, 86983, 87448, 87477, 87666, 87672, 87719, 88400, 88451, 88457, 88459, 89077, 89231, 89257, 89281, 89415, 89420, 89522, 89542, 89584, 90441, 90449, 91052, 91058, 91230, 92318, 92421, 92555, 92723, 93055, 93102, 93309, 93333, 94034, 94036, 94072, 94107, 94140, 94315, 94431, 94447, 94522, 95632, 96052, 96450, 97076, 97080, 97199, 97424, 97483, 97737, 98544, 98746, 99087, 99817, 99867]\n"
     ]
    }
   ],
   "source": [
    "bundeslander = kwk['Bundesland der Einheit'].unique()\n",
    "print(bundeslander)\n",
    "plz = kwk['PLZ der Einheit'].unique()\n",
    "plz = sorted(plz)\n",
    "print(plz)"
   ],
   "metadata": {
    "collapsed": false
   }
  },
  {
   "cell_type": "code",
   "execution_count": 39,
   "id": "19c95d7d",
   "metadata": {},
   "outputs": [],
   "source": [
    "kwk.set_index(['Bundesland der Einheit','Kraftwerksstatus der Einheit'],inplace = True)"
   ]
  },
  {
   "cell_type": "code",
   "execution_count": 40,
   "id": "da16e044",
   "metadata": {},
   "outputs": [],
   "source": [
    "kwk = kwk.sort_index()"
   ]
  },
  {
   "cell_type": "code",
   "execution_count": 41,
   "id": "155c3a67",
   "metadata": {},
   "outputs": [],
   "source": [
    "kwk_bayern = kwk.loc['Bayern']"
   ]
  },
  {
   "cell_type": "code",
   "execution_count": 43,
   "id": "a14ff39c",
   "metadata": {},
   "outputs": [
    {
     "data": {
      "text/plain": [
       "Wasser                   175\n",
       "Erdgas                   114\n",
       "Mineralölprodukte         31\n",
       "Pumpspeicher              19\n",
       "nicht biogener Abfall     17\n",
       "Biomasse                  14\n",
       "Wärme                     10\n",
       "Steinkohle                 6\n",
       "Speicher                   4\n",
       "Kernenergie                1\n",
       "Name: Energieträger, dtype: int64"
      ]
     },
     "execution_count": 43,
     "metadata": {},
     "output_type": "execute_result"
    }
   ],
   "source": [
    "kwk_bayern['Energieträger'].value_counts()"
   ]
  },
  {
   "cell_type": "code",
   "execution_count": 44,
   "id": "33a589f3",
   "metadata": {},
   "outputs": [
    {
     "data": {
      "text/plain": [
       "Erdgas                   70\n",
       "Wasser                   53\n",
       "Pumpspeicher             25\n",
       "Mineralölprodukte        24\n",
       "Steinkohle               18\n",
       "Wärme                     9\n",
       "Biomasse                  9\n",
       "nicht biogener Abfall     7\n",
       "Kernenergie               1\n",
       "Name: Energieträger, dtype: int64"
      ]
     },
     "execution_count": 44,
     "metadata": {},
     "output_type": "execute_result"
    }
   ],
   "source": [
    "kwk_bw = kwk.loc['Baden-Württemberg']\n",
    "kwk_bw['Energieträger'].value_counts()"
   ]
  },
  {
   "cell_type": "code",
   "execution_count": 46,
   "id": "506a3120",
   "metadata": {},
   "outputs": [
    {
     "name": "stdout",
     "output_type": "stream",
     "text": [
      "Erdgas                   141\n",
      "Steinkohle                32\n",
      "Braunkohle                23\n",
      "Mineralölprodukte         20\n",
      "nicht biogener Abfall     20\n",
      "Biomasse                  19\n",
      "andere Gase               16\n",
      "Wärme                     16\n",
      "Grubengas                  8\n",
      "Wasser                     8\n",
      "Speicher                   5\n",
      "Pumpspeicher               1\n",
      "Name: Energieträger, dtype: int64\n"
     ]
    }
   ],
   "source": [
    "kwk_bw = kwk.loc['Nordrhein-Westfalen']\n",
    "#kwk_bw['Energieträger'].value_counts()\n",
    "print(kwk_bw['Energieträger'].value_counts())"
   ]
  },
  {
   "cell_type": "code",
   "execution_count": 49,
   "id": "04e8b165",
   "metadata": {},
   "outputs": [
    {
     "name": "stdout",
     "output_type": "stream",
     "text": [
      "Saarland\n",
      "\n",
      "Erdgas                    13\n",
      "Steinkohle                 5\n",
      "Grubengas                  4\n",
      "Speicher                   4\n",
      "Druck aus Gasleitungen     2\n",
      "andere Gase                2\n",
      "Wärme                      2\n",
      "Mineralölprodukte          1\n",
      "nicht biogener Abfall      1\n",
      "Name: Energieträger, dtype: int64\n",
      "\n",
      "\n",
      "Nordrhein-Westfalen\n",
      "\n",
      "Erdgas                   141\n",
      "Steinkohle                32\n",
      "Braunkohle                23\n",
      "Mineralölprodukte         20\n",
      "nicht biogener Abfall     20\n",
      "Biomasse                  19\n",
      "andere Gase               16\n",
      "Wärme                     16\n",
      "Grubengas                  8\n",
      "Wasser                     8\n",
      "Speicher                   5\n",
      "Pumpspeicher               1\n",
      "Name: Energieträger, dtype: int64\n",
      "\n",
      "\n",
      "Brandenburg\n",
      "\n",
      "Erdgas                   26\n",
      "Braunkohle               12\n",
      "Biomasse                  8\n",
      "nicht biogener Abfall     7\n",
      "Mineralölprodukte         5\n",
      "Speicher                  3\n",
      "andere Gase               2\n",
      "Wärme                     2\n",
      "Name: Energieträger, dtype: int64\n",
      "\n",
      "\n",
      "Baden-Württemberg\n",
      "\n",
      "Erdgas                   70\n",
      "Wasser                   53\n",
      "Pumpspeicher             25\n",
      "Mineralölprodukte        24\n",
      "Steinkohle               18\n",
      "Wärme                     9\n",
      "Biomasse                  9\n",
      "nicht biogener Abfall     7\n",
      "Kernenergie               1\n",
      "Name: Energieträger, dtype: int64\n",
      "\n",
      "\n",
      "Niedersachsen\n",
      "\n",
      "Erdgas                       61\n",
      "Mineralölprodukte            17\n",
      "Biomasse                     17\n",
      "Steinkohle                   11\n",
      "andere Gase                  10\n",
      "Wärme                         9\n",
      "nicht biogener Abfall         9\n",
      "Wasser                        3\n",
      "Druck aus Gasleitungen        2\n",
      "Druck aus Wasserleitungen     2\n",
      "Speicher                      2\n",
      "Braunkohle                    2\n",
      "Kernenergie                   1\n",
      "Name: Energieträger, dtype: int64\n",
      "\n",
      "\n",
      "Bayern\n",
      "\n",
      "Wasser                   175\n",
      "Erdgas                   114\n",
      "Mineralölprodukte         31\n",
      "Pumpspeicher              19\n",
      "nicht biogener Abfall     17\n",
      "Biomasse                  14\n",
      "Wärme                     10\n",
      "Steinkohle                 6\n",
      "Speicher                   4\n",
      "Kernenergie                1\n",
      "Name: Energieträger, dtype: int64\n",
      "\n",
      "\n",
      "Thüringen\n",
      "\n",
      "Erdgas                   24\n",
      "Pumpspeicher             16\n",
      "Wärme                     7\n",
      "Biomasse                  3\n",
      "Wasser                    3\n",
      "Speicher                  2\n",
      "nicht biogener Abfall     1\n",
      "Name: Energieträger, dtype: int64\n",
      "\n",
      "\n",
      "Rheinland-Pfalz\n",
      "\n",
      "Wasser                    42\n",
      "Erdgas                    42\n",
      "Wärme                     16\n",
      "Mineralölprodukte          4\n",
      "nicht biogener Abfall      4\n",
      "Druck aus Gasleitungen     2\n",
      "Biomasse                   2\n",
      "Speicher                   1\n",
      "Name: Energieträger, dtype: int64\n",
      "\n",
      "\n",
      "Mecklenburg-Vorpommern\n",
      "\n",
      "Biomasse                 39\n",
      "Erdgas                   16\n",
      "Steinkohle                1\n",
      "Speicher                  1\n",
      "nicht biogener Abfall     1\n",
      "Name: Energieträger, dtype: int64\n",
      "\n",
      "\n",
      "Sachsen-Anhalt\n",
      "\n",
      "Erdgas                   34\n",
      "Wärme                     9\n",
      "nicht biogener Abfall     8\n",
      "Braunkohle                6\n",
      "Mineralölprodukte         6\n",
      "Biomasse                  3\n",
      "Pumpspeicher              2\n",
      "Name: Energieträger, dtype: int64\n",
      "\n",
      "\n",
      "Hessen\n",
      "\n",
      "Erdgas                   53\n",
      "nicht biogener Abfall    10\n",
      "Wärme                     9\n",
      "Mineralölprodukte         8\n",
      "Pumpspeicher              7\n",
      "Biomasse                  7\n",
      "Steinkohle                4\n",
      "Braunkohle                1\n",
      "Name: Energieträger, dtype: int64\n",
      "\n",
      "\n",
      "Sachsen\n",
      "\n",
      "Erdgas                   50\n",
      "Speicher                  9\n",
      "Braunkohle                8\n",
      "Pumpspeicher              8\n",
      "Biomasse                  6\n",
      "Mineralölprodukte         3\n",
      "Wärme                     3\n",
      "nicht biogener Abfall     1\n",
      "Name: Energieträger, dtype: int64\n",
      "\n",
      "\n",
      "Berlin\n",
      "\n",
      "Erdgas               16\n",
      "Wärme                 4\n",
      "Steinkohle            3\n",
      "Mineralölprodukte     2\n",
      "Biomasse              1\n",
      "Name: Energieträger, dtype: int64\n",
      "\n",
      "\n",
      "Schleswig-Holstein\n",
      "\n",
      "Erdgas                   30\n",
      "Mineralölprodukte         8\n",
      "Steinkohle                6\n",
      "nicht biogener Abfall     4\n",
      "Wärme                     3\n",
      "Pumpspeicher              3\n",
      "Speicher                  2\n",
      "Name: Energieträger, dtype: int64\n",
      "\n",
      "\n",
      "Bremen\n",
      "\n",
      "nicht biogener Abfall    5\n",
      "Erdgas                   4\n",
      "Steinkohle               2\n",
      "Biomasse                 1\n",
      "andere Gase              1\n",
      "Mineralölprodukte        1\n",
      "Speicher                 1\n",
      "Name: Energieträger, dtype: int64\n",
      "\n",
      "\n",
      "Hamburg\n",
      "\n",
      "Erdgas                   16\n",
      "Biomasse                  4\n",
      "nicht biogener Abfall     2\n",
      "Klärschlamm               1\n",
      "Steinkohle                1\n",
      "Wärme                     1\n",
      "Name: Energieträger, dtype: int64\n",
      "\n",
      "\n",
      "Österreich\n",
      "\n",
      "Pumpspeicher    17\n",
      "Wasser          13\n",
      "Name: Energieträger, dtype: int64\n",
      "\n",
      "\n",
      "Schweiz\n",
      "\n",
      "Wasser    10\n",
      "Name: Energieträger, dtype: int64\n",
      "\n",
      "\n",
      "Luxemburg\n",
      "\n",
      "Pumpspeicher    11\n",
      "Name: Energieträger, dtype: int64\n",
      "\n",
      "\n"
     ]
    }
   ],
   "source": [
    "for land in bundeslander:\n",
    "    kwk_bundeland = kwk.loc[land]\n",
    "    print(land + '\\n')\n",
    "    print(kwk_bundeland['Energieträger'].value_counts())\n",
    "    print('\\n')"
   ]
  },
  {
   "cell_type": "code",
   "execution_count": 64,
   "id": "060289a0",
   "metadata": {},
   "outputs": [
    {
     "name": "stdout",
     "output_type": "stream",
     "text": [
      "14.2\n",
      "10.2\n",
      "333.0\n",
      "472.0\n",
      "5.76\n",
      "21.645\n"
     ]
    },
    {
     "data": {
      "text/plain": [
       "Kraftwerksstatus der Einheit\n",
       "In Betrieb                               None\n",
       "In Betrieb                               None\n",
       "In Betrieb                               None\n",
       "In Betrieb                               None\n",
       "In Betrieb                               None\n",
       "                                         ... \n",
       "Saisonale Konservierung                  None\n",
       "Vorübergehend stillgelegt                None\n",
       "in Betrieb                               None\n",
       "in Betrieb                               None\n",
       "vorläufig stillgelegt nach § 13b EnWG    None\n",
       "Length: 391, dtype: object"
      ]
     },
     "execution_count": 64,
     "metadata": {},
     "output_type": "execute_result"
    }
   ],
   "source": [
    "def steinkohle (x):\n",
    "    if x['Energieträger'] == 'Steinkohle':\n",
    "        print(x['Nettonennleistung (elektrische Wirkleistung) in MW'])\n",
    "kwk_bayern.apply(lambda x: steinkohle(x), axis=1)"
   ]
  },
  {
   "cell_type": "markdown",
   "source": [
    "#  get demographic data from https://www.suche-postleitzahl.org"
   ],
   "metadata": {
    "collapsed": false
   }
  },
  {
   "cell_type": "code",
   "execution_count": 7,
   "id": "3eec6f38",
   "metadata": {},
   "outputs": [
    {
     "ename": "TypeError",
     "evalue": "read_csv() missing 1 required positional argument: 'filepath_or_buffer'",
     "output_type": "error",
     "traceback": [
      "\u001B[0;31m---------------------------------------------------------------------------\u001B[0m",
      "\u001B[0;31mTypeError\u001B[0m                                 Traceback (most recent call last)",
      "Input \u001B[0;32mIn [7]\u001B[0m, in \u001B[0;36m<cell line: 1>\u001B[0;34m()\u001B[0m\n\u001B[0;32m----> 1\u001B[0m demographic \u001B[38;5;241m=\u001B[39m \u001B[43mpd\u001B[49m\u001B[38;5;241;43m.\u001B[39;49m\u001B[43mread_csv\u001B[49m\u001B[43m(\u001B[49m\u001B[43m)\u001B[49m\n",
      "File \u001B[0;32m~/opt/anaconda3/envs/personal/lib/python3.10/site-packages/pandas/util/_decorators.py:311\u001B[0m, in \u001B[0;36mdeprecate_nonkeyword_arguments.<locals>.decorate.<locals>.wrapper\u001B[0;34m(*args, **kwargs)\u001B[0m\n\u001B[1;32m    305\u001B[0m \u001B[38;5;28;01mif\u001B[39;00m \u001B[38;5;28mlen\u001B[39m(args) \u001B[38;5;241m>\u001B[39m num_allow_args:\n\u001B[1;32m    306\u001B[0m     warnings\u001B[38;5;241m.\u001B[39mwarn(\n\u001B[1;32m    307\u001B[0m         msg\u001B[38;5;241m.\u001B[39mformat(arguments\u001B[38;5;241m=\u001B[39marguments),\n\u001B[1;32m    308\u001B[0m         \u001B[38;5;167;01mFutureWarning\u001B[39;00m,\n\u001B[1;32m    309\u001B[0m         stacklevel\u001B[38;5;241m=\u001B[39mstacklevel,\n\u001B[1;32m    310\u001B[0m     )\n\u001B[0;32m--> 311\u001B[0m \u001B[38;5;28;01mreturn\u001B[39;00m \u001B[43mfunc\u001B[49m\u001B[43m(\u001B[49m\u001B[38;5;241;43m*\u001B[39;49m\u001B[43margs\u001B[49m\u001B[43m,\u001B[49m\u001B[43m \u001B[49m\u001B[38;5;241;43m*\u001B[39;49m\u001B[38;5;241;43m*\u001B[39;49m\u001B[43mkwargs\u001B[49m\u001B[43m)\u001B[49m\n",
      "\u001B[0;31mTypeError\u001B[0m: read_csv() missing 1 required positional argument: 'filepath_or_buffer'"
     ]
    }
   ],
   "source": []
  },
  {
   "cell_type": "code",
   "execution_count": null,
   "outputs": [],
   "source": [],
   "metadata": {
    "collapsed": false
   }
  }
 ],
 "metadata": {
  "kernelspec": {
   "display_name": "Python 3 (ipykernel)",
   "language": "python",
   "name": "python3"
  },
  "language_info": {
   "codemirror_mode": {
    "name": "ipython",
    "version": 3
   },
   "file_extension": ".py",
   "mimetype": "text/x-python",
   "name": "python",
   "nbconvert_exporter": "python",
   "pygments_lexer": "ipython3",
   "version": "3.10.4"
  }
 },
 "nbformat": 4,
 "nbformat_minor": 5
}
