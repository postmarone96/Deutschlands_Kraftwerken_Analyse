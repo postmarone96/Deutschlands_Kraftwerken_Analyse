{
 "cells": [
  {
   "cell_type": "markdown",
   "id": "dcd064df",
   "metadata": {},
   "source": [
    "## Kraftwerkenverteilung in deutschland"
   ]
  },
  {
   "cell_type": "markdown",
   "source": [
    "Import libraries"
   ],
   "metadata": {
    "collapsed": false
   }
  },
  {
   "cell_type": "code",
   "execution_count": 44,
   "outputs": [],
   "source": [
    "import pandas as pd\n",
    "import seaborn as sns\n",
    "import numpy as np"
   ],
   "metadata": {
    "collapsed": false
   }
  },
  {
   "cell_type": "markdown",
   "source": [
    "Read all needed csv files"
   ],
   "metadata": {
    "collapsed": false
   }
  },
  {
   "cell_type": "code",
   "execution_count": 40,
   "id": "fe510078",
   "metadata": {},
   "outputs": [],
   "source": [
    "#POWERPLANTS\n",
    "kwk = pd.read_excel('Kraftwerksliste_2022.xlsx',\n",
    "                  sheet_name = 'Gesamtkraftwerksliste BNetzA',\n",
    "                  header = 9,\n",
    "                  nrows = 1816)\n",
    "#POPULATION\n",
    "demo = pd.read_excel('plz_pop.xlsx')"
   ]
  },
  {
   "cell_type": "code",
   "execution_count": 70,
   "outputs": [
    {
     "data": {
      "text/plain": "      PLZ der Einheit Ort der Einheit   Straße der Einheit  \\\n0               66763       Dillingen           Werkstraße   \n1               40589      Düsseldorf         Henkelstraße   \n2               41460           Neuss  Düsseldorfer Straße   \n3               66763       Dillingen           Werkstraße   \n4               16356     Ahrensfelde  Lindenberger Straße   \n...               ...             ...                  ...   \n1811            53909         Zülpich     Zum Mühlengraben   \n1812            53909         Zülpich     Zum Mühlengraben   \n1813            53909         Zülpich     Zum Mühlengraben   \n1814             8058         Zwickau    Glauchauer Straße   \n1815             8058         Zwickau    Glauchauer Straße   \n\n     Hausnummer der Einheit Bundesland der Einheit  \\\n0                         1               Saarland   \n1                        67    Nordrhein-Westfalen   \n2                       182    Nordrhein-Westfalen   \n3                         1               Saarland   \n4                        12            Brandenburg   \n...                     ...                    ...   \n1811                      1    Nordrhein-Westfalen   \n1812                      1    Nordrhein-Westfalen   \n1813                      1    Nordrhein-Westfalen   \n1814                     40                Sachsen   \n1815                     40                Sachsen   \n\n     Datum der erstmaligen Inbetriebnahme der Einheit  \\\n0                                          1986-12-18   \n1                                          2004-01-01   \n2                                          1992-07-01   \n3                                          1984-01-01   \n4                                          1990-12-22   \n...                                               ...   \n1811                                       1996-04-01   \n1812                                       1996-04-01   \n1813                                       1997-12-01   \n1814                                       2014-02-13   \n1815                                       2017-11-28   \n\n                   Kraftwerksstatus der Einheit           Energieträger  \\\n0                                    In Betrieb  Druck aus Gasleitungen   \n1                                    In Betrieb       Mineralölprodukte   \n2                                    In Betrieb                  Erdgas   \n3                                    In Betrieb  Druck aus Gasleitungen   \n4     Kapazitätsreserve aufgrund von § 13e EnWG                  Erdgas   \n...                                         ...                     ...   \n1811                                 In Betrieb                  Erdgas   \n1812                                 In Betrieb                  Erdgas   \n1813                                 In Betrieb                  Erdgas   \n1814                                 In Betrieb                  Erdgas   \n1815                                 In Betrieb                  Erdgas   \n\n       Hauptbrennstoff                   Auswertung Energieträger  \\\n0                  NaN  Sonstige Energieträger (nicht erneuerbar)   \n1       Heizöl, leicht                          Mineralölprodukte   \n2     Erdgas, Erdölgas                                     Erdgas   \n3                  NaN  Sonstige Energieträger (nicht erneuerbar)   \n4     Erdgas, Erdölgas                                     Erdgas   \n...                ...                                        ...   \n1811  Erdgas, Erdölgas                                     Erdgas   \n1812  Erdgas, Erdölgas                                     Erdgas   \n1813  Erdgas, Erdölgas                                     Erdgas   \n1814  Erdgas, Erdölgas                                     Erdgas   \n1815  Erdgas, Erdölgas                                     Erdgas   \n\n      Bruttoleistung in MW  \\\n0                   9.5200   \n1                   1.4000   \n2                   6.2000   \n3                   9.5200   \n4                  38.3400   \n...                    ...   \n1811                5.4000   \n1812                5.9895   \n1813                5.4000   \n1814               12.9000   \n1815                1.9000   \n\n      Nettonennleistung (elektrische Wirkleistung) in MW  Bevölkerung  \n0                                                 9.520         20259  \n1                                                 1.400         19509  \n2                                                 4.800         14961  \n3                                                 9.520         20259  \n4                                                37.104         20587  \n...                                                 ...           ...  \n1811                                              4.946         19768  \n1812                                              4.946         19768  \n1813                                              4.946         19768  \n1814                                             12.900         20025  \n1815                                              1.900         20025  \n\n[1775 rows x 13 columns]",
      "text/html": "<div>\n<style scoped>\n    .dataframe tbody tr th:only-of-type {\n        vertical-align: middle;\n    }\n\n    .dataframe tbody tr th {\n        vertical-align: top;\n    }\n\n    .dataframe thead th {\n        text-align: right;\n    }\n</style>\n<table border=\"1\" class=\"dataframe\">\n  <thead>\n    <tr style=\"text-align: right;\">\n      <th></th>\n      <th>PLZ der Einheit</th>\n      <th>Ort der Einheit</th>\n      <th>Straße der Einheit</th>\n      <th>Hausnummer der Einheit</th>\n      <th>Bundesland der Einheit</th>\n      <th>Datum der erstmaligen Inbetriebnahme der Einheit</th>\n      <th>Kraftwerksstatus der Einheit</th>\n      <th>Energieträger</th>\n      <th>Hauptbrennstoff</th>\n      <th>Auswertung Energieträger</th>\n      <th>Bruttoleistung in MW</th>\n      <th>Nettonennleistung (elektrische Wirkleistung) in MW</th>\n      <th>Bevölkerung</th>\n    </tr>\n  </thead>\n  <tbody>\n    <tr>\n      <th>0</th>\n      <td>66763</td>\n      <td>Dillingen</td>\n      <td>Werkstraße</td>\n      <td>1</td>\n      <td>Saarland</td>\n      <td>1986-12-18</td>\n      <td>In Betrieb</td>\n      <td>Druck aus Gasleitungen</td>\n      <td>NaN</td>\n      <td>Sonstige Energieträger (nicht erneuerbar)</td>\n      <td>9.5200</td>\n      <td>9.520</td>\n      <td>20259</td>\n    </tr>\n    <tr>\n      <th>1</th>\n      <td>40589</td>\n      <td>Düsseldorf</td>\n      <td>Henkelstraße</td>\n      <td>67</td>\n      <td>Nordrhein-Westfalen</td>\n      <td>2004-01-01</td>\n      <td>In Betrieb</td>\n      <td>Mineralölprodukte</td>\n      <td>Heizöl, leicht</td>\n      <td>Mineralölprodukte</td>\n      <td>1.4000</td>\n      <td>1.400</td>\n      <td>19509</td>\n    </tr>\n    <tr>\n      <th>2</th>\n      <td>41460</td>\n      <td>Neuss</td>\n      <td>Düsseldorfer Straße</td>\n      <td>182</td>\n      <td>Nordrhein-Westfalen</td>\n      <td>1992-07-01</td>\n      <td>In Betrieb</td>\n      <td>Erdgas</td>\n      <td>Erdgas, Erdölgas</td>\n      <td>Erdgas</td>\n      <td>6.2000</td>\n      <td>4.800</td>\n      <td>14961</td>\n    </tr>\n    <tr>\n      <th>3</th>\n      <td>66763</td>\n      <td>Dillingen</td>\n      <td>Werkstraße</td>\n      <td>1</td>\n      <td>Saarland</td>\n      <td>1984-01-01</td>\n      <td>In Betrieb</td>\n      <td>Druck aus Gasleitungen</td>\n      <td>NaN</td>\n      <td>Sonstige Energieträger (nicht erneuerbar)</td>\n      <td>9.5200</td>\n      <td>9.520</td>\n      <td>20259</td>\n    </tr>\n    <tr>\n      <th>4</th>\n      <td>16356</td>\n      <td>Ahrensfelde</td>\n      <td>Lindenberger Straße</td>\n      <td>12</td>\n      <td>Brandenburg</td>\n      <td>1990-12-22</td>\n      <td>Kapazitätsreserve aufgrund von § 13e EnWG</td>\n      <td>Erdgas</td>\n      <td>Erdgas, Erdölgas</td>\n      <td>Erdgas</td>\n      <td>38.3400</td>\n      <td>37.104</td>\n      <td>20587</td>\n    </tr>\n    <tr>\n      <th>...</th>\n      <td>...</td>\n      <td>...</td>\n      <td>...</td>\n      <td>...</td>\n      <td>...</td>\n      <td>...</td>\n      <td>...</td>\n      <td>...</td>\n      <td>...</td>\n      <td>...</td>\n      <td>...</td>\n      <td>...</td>\n      <td>...</td>\n    </tr>\n    <tr>\n      <th>1811</th>\n      <td>53909</td>\n      <td>Zülpich</td>\n      <td>Zum Mühlengraben</td>\n      <td>1</td>\n      <td>Nordrhein-Westfalen</td>\n      <td>1996-04-01</td>\n      <td>In Betrieb</td>\n      <td>Erdgas</td>\n      <td>Erdgas, Erdölgas</td>\n      <td>Erdgas</td>\n      <td>5.4000</td>\n      <td>4.946</td>\n      <td>19768</td>\n    </tr>\n    <tr>\n      <th>1812</th>\n      <td>53909</td>\n      <td>Zülpich</td>\n      <td>Zum Mühlengraben</td>\n      <td>1</td>\n      <td>Nordrhein-Westfalen</td>\n      <td>1996-04-01</td>\n      <td>In Betrieb</td>\n      <td>Erdgas</td>\n      <td>Erdgas, Erdölgas</td>\n      <td>Erdgas</td>\n      <td>5.9895</td>\n      <td>4.946</td>\n      <td>19768</td>\n    </tr>\n    <tr>\n      <th>1813</th>\n      <td>53909</td>\n      <td>Zülpich</td>\n      <td>Zum Mühlengraben</td>\n      <td>1</td>\n      <td>Nordrhein-Westfalen</td>\n      <td>1997-12-01</td>\n      <td>In Betrieb</td>\n      <td>Erdgas</td>\n      <td>Erdgas, Erdölgas</td>\n      <td>Erdgas</td>\n      <td>5.4000</td>\n      <td>4.946</td>\n      <td>19768</td>\n    </tr>\n    <tr>\n      <th>1814</th>\n      <td>8058</td>\n      <td>Zwickau</td>\n      <td>Glauchauer Straße</td>\n      <td>40</td>\n      <td>Sachsen</td>\n      <td>2014-02-13</td>\n      <td>In Betrieb</td>\n      <td>Erdgas</td>\n      <td>Erdgas, Erdölgas</td>\n      <td>Erdgas</td>\n      <td>12.9000</td>\n      <td>12.900</td>\n      <td>20025</td>\n    </tr>\n    <tr>\n      <th>1815</th>\n      <td>8058</td>\n      <td>Zwickau</td>\n      <td>Glauchauer Straße</td>\n      <td>40</td>\n      <td>Sachsen</td>\n      <td>2017-11-28</td>\n      <td>In Betrieb</td>\n      <td>Erdgas</td>\n      <td>Erdgas, Erdölgas</td>\n      <td>Erdgas</td>\n      <td>1.9000</td>\n      <td>1.900</td>\n      <td>20025</td>\n    </tr>\n  </tbody>\n</table>\n<p>1775 rows × 13 columns</p>\n</div>"
     },
     "execution_count": 70,
     "metadata": {},
     "output_type": "execute_result"
    }
   ],
   "source": [
    "kwk"
   ],
   "metadata": {
    "collapsed": false
   }
  },
  {
   "cell_type": "markdown",
   "source": [
    "Print the DataFrame head"
   ],
   "metadata": {
    "collapsed": false
   }
  },
  {
   "cell_type": "code",
   "execution_count": 21,
   "outputs": [
    {
     "name": "stdout",
     "output_type": "stream",
     "text": [
      "  MaStR-Nr. der Stromerzeugungseinheit Kraftwerksnummer der Bundesnetzagentur  \\\n",
      "0                      SEE958519166192                                    NaN   \n",
      "1                      SEE902418917676                                BNA1336   \n",
      "2                      SEE977834211387                                    NaN   \n",
      "3                      SEE904017020009                                    NaN   \n",
      "4                      SEE930596800480                                BNA0005   \n",
      "\n",
      "                       Anlagenbetreiber  \\\n",
      "0  ROGESA Roheisengesellschaft Saar mbH   \n",
      "1                  Henkel AG & Co. KGaA   \n",
      "2                         MM Neuss GmbH   \n",
      "3  ROGESA Roheisengesellschaft Saar mbH   \n",
      "4         Lausitz Energie Kraftwerke AG   \n",
      "\n",
      "  Anzeige-Name der Stromerzeugungseinheit  PLZ der Einheit Ort der Einheit  \\\n",
      "0                                  ET HO4            66763       Dillingen   \n",
      "1                                  Z39NEA            40589      Düsseldorf   \n",
      "2                       MM Neuss GmbH GT2            41460           Neuss   \n",
      "3                                  ET HO5            66763       Dillingen   \n",
      "4   Gasturbinenkraftwerk Ahrensfelde GT A            16356     Ahrensfelde   \n",
      "\n",
      "    Straße der Einheit Hausnummer der Einheit Bundesland der Einheit  \\\n",
      "0           Werkstraße                      1               Saarland   \n",
      "1         Henkelstraße                     67    Nordrhein-Westfalen   \n",
      "2  Düsseldorfer Straße                    182    Nordrhein-Westfalen   \n",
      "3           Werkstraße                      1               Saarland   \n",
      "4  Lindenberger Straße                     12            Brandenburg   \n",
      "\n",
      "  Datum der erstmaligen Inbetriebnahme der Einheit  ...  \\\n",
      "0                                       1986-12-18  ...   \n",
      "1                                       2004-01-01  ...   \n",
      "2                                       1992-07-01  ...   \n",
      "3                                       1984-01-01  ...   \n",
      "4                                       1990-12-22  ...   \n",
      "\n",
      "  Erneuerbarer Energieträger\\n(ja/nein)  \\\n",
      "0                                  Nein   \n",
      "1                                  Nein   \n",
      "2                                  Nein   \n",
      "3                                  Nein   \n",
      "4                                  Nein   \n",
      "\n",
      "  Ist die Stromerzeugungseinheit ein Bestandteil eines Grenzkraftwerkes?  \\\n",
      "0                                               nein                       \n",
      "1                                               nein                       \n",
      "2                                               nein                       \n",
      "3                                               nein                       \n",
      "4                                               nein                       \n",
      "\n",
      "  Bruttoleistung in MW Nettonennleistung (elektrische Wirkleistung) in MW  \\\n",
      "0                 9.52                                              9.520   \n",
      "1                 1.40                                              1.400   \n",
      "2                 6.20                                              4.800   \n",
      "3                 9.52                                              9.520   \n",
      "4                38.34                                             37.104   \n",
      "\n",
      "  Ist die Stromerzeugungseinheit ein Bestandteil eines Grenzkraftwerkes?: ja \\nNettonennleistung der Einspeisung in ein deutsches Netz:  \\\n",
      "0                                                NaN                                                                                      \n",
      "1                                                NaN                                                                                      \n",
      "2                                                NaN                                                                                      \n",
      "3                                                NaN                                                                                      \n",
      "4                                                NaN                                                                                      \n",
      "\n",
      "  Technologie der Stromerzeugung Volleinspeisung oder Teileinspeisung?  \\\n",
      "0                       Sonstige                       Teileinspeisung   \n",
      "1              Verbrennungsmotor                       Teileinspeisung   \n",
      "2  Gasturbinen mit Abhitzekessel                       Teileinspeisung   \n",
      "3                       Sonstige                       Teileinspeisung   \n",
      "4  Gasturbinen mit Abhitzekessel                       Volleinspeisung   \n",
      "\n",
      "                              Anschlussnetzbetreiber  \\\n",
      "0  Amprion GmbH (SNB976890256486); VSE Verteilnet...   \n",
      "1  Netzgesellschaft Düsseldorf mbH (SNB933956506145)   \n",
      "2                    Westnetz GmbH (SNB921897286493)   \n",
      "3  Amprion GmbH (SNB976890256486); VSE Verteilnet...   \n",
      "4        50Hertz Transmission GmbH (SNB982046657236)   \n",
      "\n",
      "                             Spannungsebene  \\\n",
      "0            Höchstspannung; Mittelspannung   \n",
      "1                            Mittelspannung   \n",
      "2  Umspannebene Hochspannung/Mittelspannung   \n",
      "3            Höchstspannung; Mittelspannung   \n",
      "4                              Hochspannung   \n",
      "\n",
      "   Wenn Energieträger Speicher: Nutzbare Speicherkapazität in Mwh  \n",
      "0                                                NaN               \n",
      "1                                                NaN               \n",
      "2                                                NaN               \n",
      "3                                                NaN               \n",
      "4                                                NaN               \n",
      "\n",
      "[5 rows x 26 columns]\n",
      "                 PLZ            Pop\n",
      "1   Post-leit-zahl3)  Bevölkerung2)\n",
      "8              24937          91113\n",
      "11             24103         246243\n",
      "14             23539         216277\n",
      "17             24534          79496\n"
     ]
    }
   ],
   "source": [
    "#POWERPLANTS\n",
    "print(kwk.head())\n",
    "\n",
    "#POPULATION\n",
    "print(demo.head())"
   ],
   "metadata": {
    "collapsed": false
   }
  },
  {
   "cell_type": "code",
   "execution_count": 6,
   "outputs": [
    {
     "data": {
      "text/plain": "Index(['MaStR-Nr. der Stromerzeugungseinheit',\n       'Kraftwerksnummer der Bundesnetzagentur', 'Anlagenbetreiber',\n       'Anzeige-Name der Stromerzeugungseinheit', 'PLZ der Einheit',\n       'Ort der Einheit', 'Straße der Einheit', 'Hausnummer der Einheit',\n       'Bundesland der Einheit',\n       'Datum der erstmaligen Inbetriebnahme der Einheit',\n       'Kraftwerksstatus der Einheit', 'Energieträger', 'Hauptbrennstoff',\n       'Auswertung Energieträger', 'Förderberechtigt nach EEG\\n(ja/nein)',\n       'Wärmeauskopplung (KWK)\\n(ja/nein)',\n       'Erneuerbarer Energieträger\\n(ja/nein)',\n       'Ist die Stromerzeugungseinheit ein Bestandteil eines Grenzkraftwerkes?',\n       'Bruttoleistung in MW',\n       'Nettonennleistung (elektrische Wirkleistung) in MW',\n       'Ist die Stromerzeugungseinheit ein Bestandteil eines Grenzkraftwerkes?: ja \\nNettonennleistung der Einspeisung in ein deutsches Netz:',\n       'Technologie der Stromerzeugung',\n       'Volleinspeisung oder Teileinspeisung?', 'Anschlussnetzbetreiber',\n       'Spannungsebene',\n       'Wenn Energieträger Speicher: Nutzbare Speicherkapazität in Mwh'],\n      dtype='object')"
     },
     "execution_count": 6,
     "metadata": {},
     "output_type": "execute_result"
    }
   ],
   "source": [
    "#POWERPLANT DATA COLUMNS\n",
    "kwk.columns"
   ],
   "metadata": {
    "collapsed": false
   }
  },
  {
   "cell_type": "markdown",
   "source": [
    "DataFrame modifications"
   ],
   "metadata": {
    "collapsed": false
   }
  },
  {
   "cell_type": "code",
   "execution_count": 42,
   "outputs": [],
   "source": [
    "#POWERPLANTS\n",
    "\n",
    "##Delete unnecessary columns\n",
    "\n",
    "kwk.drop(['MaStR-Nr. der Stromerzeugungseinheit',\n",
    "        'Kraftwerksnummer der Bundesnetzagentur',\n",
    "        'Anlagenbetreiber',\n",
    "        'Anzeige-Name der Stromerzeugungseinheit',\n",
    "        'Förderberechtigt nach EEG\\n(ja/nein)',\n",
    "        'Wärmeauskopplung (KWK)\\n(ja/nein)',\n",
    "        'Erneuerbarer Energieträger\\n(ja/nein)',\n",
    "        'Ist die Stromerzeugungseinheit ein Bestandteil eines Grenzkraftwerkes?',\n",
    "        'Ist die Stromerzeugungseinheit ein Bestandteil eines Grenzkraftwerkes?: ja \\nNettonennleistung der Einspeisung in ein deutsches Netz:',\n",
    "        'Technologie der Stromerzeugung',\n",
    "        'Volleinspeisung oder Teileinspeisung?',\n",
    "        'Anschlussnetzbetreiber',\n",
    "        'Spannungsebene',\n",
    "        'Wenn Energieträger Speicher: Nutzbare Speicherkapazität in Mwh'],\n",
    "         axis=1,\n",
    "         inplace=True)\n",
    "\n",
    "##Delete unnecessary rows (Österreich, Luxemburg)\n",
    "\n",
    "kwk.drop(kwk.loc[kwk['Bundesland der Einheit'] == 'Österreich'].index, inplace=True)\n",
    "kwk.drop(kwk.loc[kwk['Bundesland der Einheit'] == 'Luxemburg'].index, inplace=True)"
   ],
   "metadata": {
    "collapsed": false
   }
  },
  {
   "cell_type": "markdown",
   "source": [
    "Create the Pop column and append to kwk DataFrame"
   ],
   "metadata": {
    "collapsed": false
   }
  },
  {
   "cell_type": "code",
   "execution_count": 67,
   "outputs": [],
   "source": [
    "demo_arr = []\n",
    "for i in kwk['PLZ der Einheit']:\n",
    "    try :\n",
    "        index = demo[demo['plz']== i ].index.item()\n",
    "        demo_arr.append(demo.iloc[index,2])\n",
    "    except ValueError:\n",
    "        print (kwk[kwk['PLZ der Einheit']== i ])\n",
    "        break\n",
    "\n",
    "kwk['Bevölkerung'] = demo_arr"
   ],
   "metadata": {
    "collapsed": false
   }
  },
  {
   "cell_type": "code",
   "execution_count": 72,
   "outputs": [
    {
     "data": {
      "text/plain": "                                           PLZ der Einheit  \\\nAuswertung Energieträger                                     \nAbfall                                        50173.702703   \nBatteriespeicher                              39666.735294   \nBiomasse                                      37684.742647   \nBraunkohle                                    25374.509091   \nErdgas                                        46697.044474   \nGrubengas                                     52939.000000   \nKernenergie                                   69414.666667   \nMineralölprodukte                             54609.546154   \nPumpspeicher                                  55828.864198   \nSonstige Energieträger (nicht erneuerbar)     43786.285714   \nSteinkohle                                    51175.387097   \nWasser                                        79259.047619   \nWärme                                         58161.029412   \nsonstige Energieträger (nicht erneuerbar)     20457.000000   \n\n                                           Bruttoleistung in MW  \\\nAuswertung Energieträger                                          \nAbfall                                                19.378946   \nBatteriespeicher                                      13.589118   \nBiomasse                                              10.454074   \nBraunkohle                                           369.239873   \nErdgas                                                39.488140   \nGrubengas                                              1.921000   \nKernenergie                                         1430.333333   \nMineralölprodukte                                     33.853788   \nPumpspeicher                                          76.295062   \nSonstige Energieträger (nicht erneuerbar)             54.301204   \nSteinkohle                                           221.422344   \nWasser                                                10.113343   \nWärme                                                 10.598412   \nsonstige Energieträger (nicht erneuerbar)              5.200000   \n\n                                           Nettonennleistung (elektrische Wirkleistung) in MW  \\\nAuswertung Energieträger                                                                        \nAbfall                                                                             16.516558    \nBatteriespeicher                                                                   13.553088    \nBiomasse                                                                            9.649893    \nBraunkohle                                                                        344.943694    \nErdgas                                                                             38.195176    \nGrubengas                                                                           1.809000    \nKernenergie                                                                      1352.000000    \nMineralölprodukte                                                                  31.771921    \nPumpspeicher                                                                       75.941975    \nSonstige Energieträger (nicht erneuerbar)                                          49.365551    \nSteinkohle                                                                        204.623806    \nWasser                                                                              9.948374    \nWärme                                                                              10.106216    \nsonstige Energieträger (nicht erneuerbar)                                           5.200000    \n\n                                            Bevölkerung  \nAuswertung Energieträger                                 \nAbfall                                     21330.801802  \nBatteriespeicher                           16458.882353  \nBiomasse                                   14386.235294  \nBraunkohle                                 20223.036364  \nErdgas                                     19561.110512  \nGrubengas                                  27959.333333  \nKernenergie                                 9763.000000  \nMineralölprodukte                          18417.492308  \nPumpspeicher                                9633.271605  \nSonstige Energieträger (nicht erneuerbar)  23350.204082  \nSteinkohle                                 22163.172043  \nWasser                                     10560.071429  \nWärme                                      15618.176471  \nsonstige Energieträger (nicht erneuerbar)   2566.000000  ",
      "text/html": "<div>\n<style scoped>\n    .dataframe tbody tr th:only-of-type {\n        vertical-align: middle;\n    }\n\n    .dataframe tbody tr th {\n        vertical-align: top;\n    }\n\n    .dataframe thead th {\n        text-align: right;\n    }\n</style>\n<table border=\"1\" class=\"dataframe\">\n  <thead>\n    <tr style=\"text-align: right;\">\n      <th></th>\n      <th>PLZ der Einheit</th>\n      <th>Bruttoleistung in MW</th>\n      <th>Nettonennleistung (elektrische Wirkleistung) in MW</th>\n      <th>Bevölkerung</th>\n    </tr>\n    <tr>\n      <th>Auswertung Energieträger</th>\n      <th></th>\n      <th></th>\n      <th></th>\n      <th></th>\n    </tr>\n  </thead>\n  <tbody>\n    <tr>\n      <th>Abfall</th>\n      <td>50173.702703</td>\n      <td>19.378946</td>\n      <td>16.516558</td>\n      <td>21330.801802</td>\n    </tr>\n    <tr>\n      <th>Batteriespeicher</th>\n      <td>39666.735294</td>\n      <td>13.589118</td>\n      <td>13.553088</td>\n      <td>16458.882353</td>\n    </tr>\n    <tr>\n      <th>Biomasse</th>\n      <td>37684.742647</td>\n      <td>10.454074</td>\n      <td>9.649893</td>\n      <td>14386.235294</td>\n    </tr>\n    <tr>\n      <th>Braunkohle</th>\n      <td>25374.509091</td>\n      <td>369.239873</td>\n      <td>344.943694</td>\n      <td>20223.036364</td>\n    </tr>\n    <tr>\n      <th>Erdgas</th>\n      <td>46697.044474</td>\n      <td>39.488140</td>\n      <td>38.195176</td>\n      <td>19561.110512</td>\n    </tr>\n    <tr>\n      <th>Grubengas</th>\n      <td>52939.000000</td>\n      <td>1.921000</td>\n      <td>1.809000</td>\n      <td>27959.333333</td>\n    </tr>\n    <tr>\n      <th>Kernenergie</th>\n      <td>69414.666667</td>\n      <td>1430.333333</td>\n      <td>1352.000000</td>\n      <td>9763.000000</td>\n    </tr>\n    <tr>\n      <th>Mineralölprodukte</th>\n      <td>54609.546154</td>\n      <td>33.853788</td>\n      <td>31.771921</td>\n      <td>18417.492308</td>\n    </tr>\n    <tr>\n      <th>Pumpspeicher</th>\n      <td>55828.864198</td>\n      <td>76.295062</td>\n      <td>75.941975</td>\n      <td>9633.271605</td>\n    </tr>\n    <tr>\n      <th>Sonstige Energieträger (nicht erneuerbar)</th>\n      <td>43786.285714</td>\n      <td>54.301204</td>\n      <td>49.365551</td>\n      <td>23350.204082</td>\n    </tr>\n    <tr>\n      <th>Steinkohle</th>\n      <td>51175.387097</td>\n      <td>221.422344</td>\n      <td>204.623806</td>\n      <td>22163.172043</td>\n    </tr>\n    <tr>\n      <th>Wasser</th>\n      <td>79259.047619</td>\n      <td>10.113343</td>\n      <td>9.948374</td>\n      <td>10560.071429</td>\n    </tr>\n    <tr>\n      <th>Wärme</th>\n      <td>58161.029412</td>\n      <td>10.598412</td>\n      <td>10.106216</td>\n      <td>15618.176471</td>\n    </tr>\n    <tr>\n      <th>sonstige Energieträger (nicht erneuerbar)</th>\n      <td>20457.000000</td>\n      <td>5.200000</td>\n      <td>5.200000</td>\n      <td>2566.000000</td>\n    </tr>\n  </tbody>\n</table>\n</div>"
     },
     "execution_count": 72,
     "metadata": {},
     "output_type": "execute_result"
    }
   ],
   "source": [
    "kwk.groupby('Auswertung Energieträger').mean()"
   ],
   "metadata": {
    "collapsed": false
   }
  }
 ],
 "metadata": {
  "kernelspec": {
   "display_name": "Python 3 (ipykernel)",
   "language": "python",
   "name": "python3"
  },
  "language_info": {
   "codemirror_mode": {
    "name": "ipython",
    "version": 3
   },
   "file_extension": ".py",
   "mimetype": "text/x-python",
   "name": "python",
   "nbconvert_exporter": "python",
   "pygments_lexer": "ipython3",
   "version": "3.10.4"
  }
 },
 "nbformat": 4,
 "nbformat_minor": 5
}
